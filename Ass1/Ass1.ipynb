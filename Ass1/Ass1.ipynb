{
 "cells": [
  {
   "cell_type": "code",
   "execution_count": 25,
   "metadata": {},
   "outputs": [],
   "source": [
    "import math"
   ]
  },
  {
   "cell_type": "code",
   "execution_count": 26,
   "metadata": {},
   "outputs": [],
   "source": [
    "x_inputs = [4.0, -1.0]\n",
    "k_pre = [1.0, 1.0, 1.0]\n",
    "h_hidden = [1.0, 1.0, 1.0]\n",
    "w_weights = [[1.0, 1.0, 1.0], [1.0, 1.0, 1.0]] # input : x_input x k_hidden : 2 x 3\n",
    "v_weights = [1.0, 1.0, 1.0]\n",
    "b_bias = 1\n",
    "c_bias = 1\n",
    "t_target = 1.2\n",
    "y = 1.5"
   ]
  },
  {
   "cell_type": "code",
   "execution_count": 27,
   "metadata": {},
   "outputs": [],
   "source": [
    "def sigmoid(x):\n",
    "    return 1 / (1 + (math.exp(-x)))"
   ]
  },
  {
   "cell_type": "code",
   "execution_count": 28,
   "metadata": {},
   "outputs": [],
   "source": [
    "def softmax(i, outputs):\n",
    "    # print(i, outputs)\n",
    "    den = 0\n",
    "    for j in range(len(outputs)):\n",
    "        den += math.e ** outputs[j]\n",
    "        \n",
    "    if den == 0:\n",
    "        return 0\n",
    "    \n",
    "    return (math.e ** outputs[i]) / den"
   ]
  },
  {
   "cell_type": "code",
   "execution_count": 8,
   "metadata": {},
   "outputs": [],
   "source": [
    "# def forward(y):\n",
    "#     for j in range(3): # num first layer nodes\n",
    "#         for i in range(2): # num inputs\n",
    "#             k_pre[j] += w_weights[i][j] * x_inputs[i]\n",
    "#         k_pre[j] += b_bias\n",
    "#     print(f'k_pre: {k_pre}')\n",
    "    \n",
    "#     for i in range(3):\n",
    "#         h_hidden[i] = sigmoid(k_pre[i])\n",
    "#     print(f'h_hidden: {h_hidden}') \n",
    "    \n",
    "#     for i in range(3):\n",
    "#         y += h_hidden[i] * v_weights[i]\n",
    "     \n",
    "#     y += c_bias\n",
    "#     print(f'y: {y}')\n",
    "    \n",
    "#     loss = (y - t_target) ** 2\n",
    "#     print(f'loss: {loss}')  \n",
    "    \n",
    "#     return loss"
   ]
  },
  {
   "cell_type": "code",
   "execution_count": 9,
   "metadata": {},
   "outputs": [],
   "source": [
    "# forward(y)"
   ]
  },
  {
   "cell_type": "code",
   "execution_count": 10,
   "metadata": {},
   "outputs": [],
   "source": [
    "dldv = [0.0, 0.0, 0.0]\n",
    "dldh = [0.0, 0.0, 0.0]\n",
    "dldc = 0.0\n",
    "dldk = [0.0, 0.0, 0.0]\n",
    "dldw = [[0.0, 0.0, 0.0], [0.0, 0.0, 0.0]]\n",
    "dldb = [0.0, 0.0, 0.0]"
   ]
  },
  {
   "cell_type": "code",
   "execution_count": 11,
   "metadata": {},
   "outputs": [],
   "source": [
    "# def backward():\n",
    "#     dldy = 2 * (y - t)\n",
    "#     print(f'dldy: {dldy}')\n",
    "#     for i in range(3):\n",
    "#         # these two are the deriv from y=v1h1 + v2h2 +..\n",
    "#         dldv[i] = dldy * h_hidden[i] # dldv = dldy * dydv\n",
    "#         dldh[i] = dldy * v_weights[i] # dldh = dldy * dydh\n",
    "        \n",
    "#     print(f'dldv: {dldv}')\n",
    "#     print(f'dldh: {dldh}')\n",
    "    \n",
    "#     dldc = dldy\n",
    "#     print(f'dldc: {dldc}')\n",
    "    \n",
    "#     for i in range(3):\n",
    "#         dldk[i] = dldh[i] * h_hidden[i] * (1 - h_hidden[i]) # dldk = dldh * dhdk\n",
    "#         # dhdk is the deriv of sigmoid func\n",
    "    \n",
    "#     print(f'dldk: {dldk}')\n",
    "        \n",
    "#     for j in range(3):\n",
    "#         for i in range(2):\n",
    "#             dldw[i][j] = dldk[j] * x_inputs[i] # dldw = dldk * dkdw\n",
    "#             # dkdw is deriv of k1 = w1x1 + w2x2 + ..\n",
    "#         dldb[j] = dldk[j]\n",
    "\n",
    "#     print(f'dldw: {dldw}')\n",
    "#     print(f'dldb: {dldb}')\n",
    "            \n",
    "    "
   ]
  },
  {
   "cell_type": "code",
   "execution_count": 12,
   "metadata": {},
   "outputs": [],
   "source": [
    "# backward()"
   ]
  },
  {
   "cell_type": "markdown",
   "metadata": {},
   "source": [
    "### Above is the network from the slides"
   ]
  },
  {
   "cell_type": "code",
   "execution_count": 24,
   "metadata": {},
   "outputs": [],
   "source": [
    "def cross_entropy(y, t):\n",
    "    # if abs(t - y) < 1.0e-15 or y == 0:\n",
    "    #     return 1.0e-15\n",
    "    # print(y,t)\n",
    "    ce = -1 * t * math.log(y)\n",
    "    # print(y,t,ce)\n",
    "    return ce"
   ]
  },
  {
   "cell_type": "code",
   "execution_count": 29,
   "metadata": {},
   "outputs": [],
   "source": [
    "import random\n"
   ]
  },
  {
   "cell_type": "code",
   "execution_count": 30,
   "metadata": {},
   "outputs": [
    {
     "data": {
      "text/plain": [
       "[[6.257306904087134, 6.308485959384342],\n",
       " [6.338035923436525, 2.675551066603548],\n",
       " [-3.895993194508998, 4.900830834063052]]"
      ]
     },
     "execution_count": 30,
     "metadata": {},
     "output_type": "execute_result"
    }
   ],
   "source": [
    "def rand_weights(r, c):\n",
    "    arr_r = []\n",
    "    for j in range(r):\n",
    "        arr_c = []\n",
    "        for i in range(c):\n",
    "            arr_c.append(random.uniform(-10, 10))\n",
    "        arr_r.append(arr_c)\n",
    "    return arr_r\n",
    "            \n",
    "    \n",
    "rand_weights(3, 2)"
   ]
  },
  {
   "cell_type": "code",
   "execution_count": 45,
   "metadata": {},
   "outputs": [],
   "source": [
    "class MLP:\n",
    "    def __init__(self):\n",
    "        # self.k_pre = [0.0, 0.0, 0.0]\n",
    "        # self.h_hidden = [0.0, 0.0, 0.0]\n",
    "        # self.w_weights =  [[1.0, 1.0, 1.0], [-1.0, -1.0, -1.0]] # rand_weights(2, 3)  # input : x_input x k_hidden : 2 x 3\n",
    "        # self.v_weights = [[1.0, 1.0], [-1.0, -1.0], [-1.0, -1.0]]  # rand_weights(3, 2) # # \n",
    "        # self.b_weights = [0.0, 0.0, 0.0]\n",
    "        # self.c_weights = [0.0, 0.0]\n",
    "        # self.y_outputs = [0.0, 0.0]\n",
    "        # self.o_raw = [0.0, 0.0]\n",
    "        # self.loss = [0.0, 0.0]\n",
    "        \n",
    "        # self.dldv = [[0.0, 0.0], [0.0, 0.0], [0.0, 0.0]]\n",
    "        # self.dldh = [0.0, 0.0, 0.0]\n",
    "        # self.dldc = [0.0, 0.0]\n",
    "        # self.dldk = [0.0, 0.0, 0.0]\n",
    "        # self.dldw = [[0.0, 0.0, 0.0], [0.0, 0.0, 0.0]]\n",
    "        # self.dldb = [0.0, 0.0, 0.0]\n",
    "        # self.dldo = [0.0, 0.0]\n",
    "        # self.dldy = [0.0, 0.0]\n",
    "        self.logs = True\n",
    "    \n",
    "    def forward(self, x_inputs, w_weights, b_weights, v_weights, c_weights):\n",
    "        k_pre = [0.0, 0.0, 0.0]\n",
    "        h_hidden = [0.0, 0.0, 0.0]\n",
    "        o_raw = [0.0, 0.0]\n",
    "        y_outputs = [0.0, 0.0]\n",
    "        \n",
    "        if self.logs: print(f'x_inputs: {x_inputs}')\n",
    "        \n",
    "        for j in range(3): \n",
    "            for i in range(2):\n",
    "                k_pre[j] += w_weights[i][j] * x_inputs[i]\n",
    "            k_pre[j] += b_weights[j]\n",
    "        if self.logs: print(f'k_pre: {k_pre}') \n",
    "        \n",
    "        for i in range(3):\n",
    "            h_hidden[i] = sigmoid(k_pre[i])\n",
    "        if self.logs: print(f'h_hidden: {h_hidden}') \n",
    "        \n",
    "        for j in range(2): \n",
    "            for i in range(3): \n",
    "                o_raw[j] += v_weights[i][j] * h_hidden[i] \n",
    "            o_raw[j] += c_weights[j]\n",
    "        if self.logs: print(f'o_raw: {o_raw}') \n",
    "        \n",
    "        \n",
    "        for i in range(2):\n",
    "            y_outputs[i] = softmax(i, o_raw)\n",
    "        if self.logs: print(f'y_outputs: {y_outputs}') \n",
    "        \n",
    "        return y_outputs, h_hidden\n",
    "            \n",
    "        \n",
    "    def loss(self, y_outputs, t_targets):\n",
    "        print(y_outputs, t_targets)\n",
    "        loss = 0\n",
    "        for i in range(2):\n",
    "            ce = cross_entropy(y_outputs[i], t_targets[i])\n",
    "            print(ce)\n",
    "            loss += ce\n",
    "        if self.logs: print(f'loss: {loss}')  \n",
    "        \n",
    "        return loss\n",
    "        \n",
    "    def backward(self, y_outputs, t_targets, h_hidden, v_weights, x_inputs, dldw, dldb, dldv, dldc):\n",
    "        dldh = [0.0, 0.0, 0.0]\n",
    "        dldk = [0.0, 0.0, 0.0]\n",
    "        dldo = [0.0, 0.0]\n",
    "        # dldy = [0.0, 0.0]\n",
    "        \n",
    "        for i in range(2):\n",
    "            dldo[i] += y_outputs[i] - t_targets[i]\n",
    "        if self.logs: print(f'dldo: {dldo}')\n",
    "        \n",
    "        for j in range(3):\n",
    "            for i in range(2):\n",
    "                dldv[j][i] += dldo[i] * h_hidden[j]\n",
    "                dldh[j] += dldo[i] * v_weights[j][i]      \n",
    "        if self.logs: print(f'dldv: {dldv}')\n",
    "        if self.logs: print(f'dldh: {dldh}')\n",
    "        \n",
    "        dldc = dldo\n",
    "        if self.logs: print(f'dldc: {dldc}')\n",
    "        \n",
    "        for i in range(3):\n",
    "            dldk[i] += dldh[i] * h_hidden[i] * (1 - h_hidden[i]) \n",
    "\n",
    "        if self.logs: print(f'dldk: {dldk}')\n",
    "            \n",
    "        # print('stuff: ', dldk, x_inputs)\n",
    "        for j in range(3):\n",
    "            for i in range(2):\n",
    "                dldw[i][j] += dldk[j] * x_inputs[i] \n",
    "            \n",
    "        dldb = dldk\n",
    "\n",
    "        if self.logs: print(f'dldw: {dldw}')\n",
    "        if self.logs: print(f'dldb: {dldb}')\n",
    "        \n",
    "        return dldw, dldb, dldv, dldc\n",
    "        \n",
    "    def set_inputs(self, x_inputs):\n",
    "        self.x_inputs = x_inputs\n",
    "        \n",
    "    def set_targets(self, t_targets):\n",
    "        self.t_targets = t_targets\n",
    "        \n",
    "    def set_learning_rate(self, lr):\n",
    "        self.lr = lr\n",
    "        \n",
    "    def sgd(self, lr, w_weights, b_weights, v_weights, c_weights, dldw, dldb, dldv, dldc):\n",
    "        for j in range(3):\n",
    "            for i in range(2):\n",
    "                diff = -lr * dldv[j][i]\n",
    "                # if logs: print(f'diff v: {diff}')\n",
    "                v_weights[j][i] += diff\n",
    "                \n",
    "        for j in range(2):\n",
    "            for i in range(3):\n",
    "                diff = -lr * dldw[j][i]\n",
    "                # if logs: print(f'diff w: {diff}')\n",
    "                w_weights[j][i] += diff\n",
    "                \n",
    "        for j in range(2):\n",
    "            diff = -lr * dldc[j]\n",
    "            # if logs: print(f'diff w: {diff}')\n",
    "            c_weights[j] += diff\n",
    "        \n",
    "        for j in range(3):\n",
    "            diff = -lr * dldb[j]\n",
    "            # if logs: print(f'diff w: {diff}')\n",
    "            b_weights[j] += diff\n",
    "            \n",
    "        return v_weights, w_weights, c_weights, b_weights\n",
    "            \n",
    "        "
   ]
  },
  {
   "cell_type": "code",
   "execution_count": 48,
   "metadata": {},
   "outputs": [
    {
     "name": "stdout",
     "output_type": "stream",
     "text": [
      "x_inputs: [1, -1]\n",
      "k_pre: [2.0, 2.0, 2.0]\n",
      "h_hidden: [0.8807970779778823, 0.8807970779778823, 0.8807970779778823]\n",
      "o_raw: [-0.8807970779778823, -0.8807970779778823]\n",
      "y_outputs: [0.5, 0.5]\n",
      "yes [0.5, 0.5] [0.8807970779778823, 0.8807970779778823, 0.8807970779778823]\n",
      "[0.5, 0.5] [1, 0]\n",
      "0.6931471805599453\n",
      "-0.0\n",
      "loss: 0.6931471805599453\n",
      "dldo: [-0.5, 0.5]\n",
      "dldv: [[-0.44039853898894116, 0.44039853898894116], [-0.44039853898894116, 0.44039853898894116], [-0.44039853898894116, 0.44039853898894116]]\n",
      "dldh: [0.0, 0.0, 0.0]\n",
      "dldc: [-0.5, 0.5]\n",
      "dldk: [0.0, 0.0, 0.0]\n",
      "dldw: [[0.0, 0.0, 0.0], [0.0, 0.0, 0.0]]\n",
      "dldb: [0.0, 0.0, 0.0]\n"
     ]
    }
   ],
   "source": [
    "# mlp = MLP()\n",
    "# lr = 0.1\n",
    "# loss_arr = []\n",
    "\n",
    "# dldh = [0.0, 0.0, 0.0]\n",
    "# dldk = [0.0, 0.0, 0.0]\n",
    "# dldo = [0.0, 0.0]\n",
    "# dldy = [0.0, 0.0]\n",
    "\n",
    "# dldw = [[0.0, 0.0, 0.0], [0.0, 0.0, 0.0]]\n",
    "# dldv = [[0.0, 0.0], [0.0, 0.0], [0.0, 0.0]]\n",
    "# dldb = [0.0, 0.0, 0.0]\n",
    "# dldc = [0.0, 0.0]\n",
    "     \n",
    "# w_weights = [[1.0, 1.0, 1.0], [-1.0, -1.0, -1.0]]\n",
    "# b_weights = [0.0, 0.0, 0.0] \n",
    "# v_weights = [[1.0, 1.0], [-1.0, -1.0], [-1.0, -1.0]]  # rand_weights(3, 2) # # \n",
    "# c_weights = [0.0, 0.0]\n",
    "       \n",
    "# for i in range(1):\n",
    "#     x_inputs = [1, -1]\n",
    "    \n",
    "    \n",
    "    \n",
    "#     y_outputs = mlp.forward(x_inputs, w_weights, b_weights, v_weights, c_weights)\n",
    "#     loss = mlp.loss(y_outputs, t_targets)\n",
    "    \n",
    "#     print(loss)\n",
    "    \n",
    "#     dldw, dldb, dldv, dldc = mlp.backward(y_outputs, t_targets)\n",
    "    \n",
    "#     mlp.sgd(lr, w_weights, b_weights, v_weights, c_weights, dldw, dldb, dldv, dldc)\n",
    "    \n",
    "#     loss_arr.append(loss)\n",
    "    \n",
    "    \n",
    "a_learning_rate = 1e-4\n",
    "mlp = MLP()\n",
    "mlp.set_learning_rate(a_learning_rate)\n",
    "\n",
    "losses = []\n",
    "epochs = 5\n",
    "\n",
    "dldh = [0.0, 0.0, 0.0]\n",
    "dldk = [0.0, 0.0, 0.0]\n",
    "dldo = [0.0, 0.0]\n",
    "dldy = [0.0, 0.0]\n",
    "\n",
    "dldw = [[0.0, 0.0, 0.0], [0.0, 0.0, 0.0]]\n",
    "dldv = [[0.0, 0.0], [0.0, 0.0], [0.0, 0.0]]\n",
    "dldb = [0.0, 0.0, 0.0]\n",
    "dldc = [0.0, 0.0]\n",
    "     \n",
    "w_weights = [[1.0, 1.0, 1.0], [-1.0, -1.0, -1.0]]\n",
    "b_weights = [0.0, 0.0, 0.0] \n",
    "v_weights = [[1.0, 1.0], [-1.0, -1.0], [-1.0, -1.0]]  # rand_weights(3, 2) # # \n",
    "c_weights = [0.0, 0.0]\n",
    "\n",
    "for j in range(1):\n",
    "    loss_avg = []\n",
    "    \n",
    "    dldw = [[0.0, 0.0, 0.0], [0.0, 0.0, 0.0]]\n",
    "    dldb = [0.0, 0.0, 0.0]\n",
    "    dldv = [[0.0, 0.0], [0.0, 0.0], [0.0, 0.0]]\n",
    "    dldc = [0.0, 0.0]\n",
    "    \n",
    "    for i in range(1):\n",
    "        t_targets = target_arr(num_cls=2, t=0)\n",
    "        \n",
    "        x_inputs = [1, -1]\n",
    "        \n",
    "        y_outputs, h_hidden = mlp.forward(x_inputs, w_weights, b_weights, v_weights, c_weights)\n",
    "        print('yes', y_outputs, h_hidden)\n",
    "        loss = mlp.loss(y_outputs, t_targets)\n",
    "        \n",
    "        w_pri, b_pri, v_pri, c_pri = mlp.backward(y_outputs, t_targets, h_hidden, v_weights, x_inputs, dldw, dldb, dldv, dldc)\n",
    "        \n",
    "        dldw += w_pri\n",
    "        dldb += b_pri\n",
    "        dldv += v_pri\n",
    "        dldc += c_pri\n",
    "        \n",
    "        \n",
    "        if i % 1000 == 0:\n",
    "            losses.append(loss)\n",
    "            \n",
    "    v_weights, w_weights, c_weights, b_weights = mlp.sgd(a_learning_rate, w_weights, b_weights, v_weights, c_weights, dldw, dldb, dldv, dldc)"
   ]
  },
  {
   "cell_type": "code",
   "execution_count": 39,
   "metadata": {},
   "outputs": [
    {
     "data": {
      "image/png": "[encoded data removed]",
      "text/plain": [
       "<Figure size 640x480 with 1 Axes>"
      ]
     },
     "metadata": {},
     "output_type": "display_data"
    }
   ],
   "source": [
    "loss_train = loss_arr\n",
    "episodes = range(0,len(loss_train))\n",
    "plt.plot(episodes, loss_train, 'g', label='Training loss')\n",
    "plt.title('Training loss')\n",
    "plt.xlabel('Episodes')\n",
    "plt.ylabel('Loss')\n",
    "plt.legend()\n",
    "plt.show()"
   ]
  },
  {
   "cell_type": "code",
   "execution_count": null,
   "metadata": {},
   "outputs": [
    {
     "ename": "AttributeError",
     "evalue": "'MLP' object has no attribute 'w_weights'",
     "output_type": "error",
     "traceback": [
      "\u001b[0;31m---------------------------------------------------------------------------\u001b[0m",
      "\u001b[0;31mAttributeError\u001b[0m                            Traceback (most recent call last)",
      "\u001b[1;32m/Users/chrispickett/Desktop/DL/Ass1.ipynb Cell 17\u001b[0m line \u001b[0;36m1\n\u001b[0;32m----> <a href='vscode-notebook-cell:/Users/chrispickett/Desktop/DL/Ass1.ipynb#X22sZmlsZQ%3D%3D?line=0'>1</a>\u001b[0m \u001b[39mprint\u001b[39m(mlp\u001b[39m.\u001b[39;49mw_weights, mlp\u001b[39m.\u001b[39mv_weights)\n",
      "\u001b[0;31mAttributeError\u001b[0m: 'MLP' object has no attribute 'w_weights'"
     ]
    }
   ],
   "source": [
    "print(mlp.w_weights, mlp.v_weights)"
   ]
  },
  {
   "cell_type": "code",
   "execution_count": null,
   "metadata": {},
   "outputs": [
    {
     "name": "stdout",
     "output_type": "stream",
     "text": [
      "[[1.0, 1.0, 1.0], [-1.0, -1.0, -1.0]] [[1.0444802524378831, 0.955519747562117], [-0.955519747562117, -1.0444802524378831], [-0.955519747562117, -1.0444802524378831]]\n"
     ]
    }
   ],
   "source": [
    "mlp.set_learning_rate(0.001)\n",
    "mlp.sgd()\n",
    "print(mlp.w_weights, mlp.v_weights)\n"
   ]
  },
  {
   "cell_type": "code",
   "execution_count": null,
   "metadata": {},
   "outputs": [],
   "source": [
    "from data import load_synth\n",
    "(xtrain, ytrain), (xval, yval), num_cls = load_synth()"
   ]
  },
  {
   "cell_type": "code",
   "execution_count": null,
   "metadata": {},
   "outputs": [],
   "source": [
    "t_min = xtrain.min()\n",
    "t_max = xtrain.max()"
   ]
  },
  {
   "cell_type": "code",
   "execution_count": null,
   "metadata": {},
   "outputs": [],
   "source": [
    "def normalize(arr, t_min, t_max):\n",
    "    norm_arr = []\n",
    "    diff = t_max - t_min\n",
    "    diff_arr = arr.max() - arr.min()    \n",
    "    for i in arr:\n",
    "        temp = (((i - arr.min())*diff)/diff_arr) + t_min\n",
    "        norm_arr.append(temp)\n",
    "    return norm_arr"
   ]
  },
  {
   "cell_type": "code",
   "execution_count": null,
   "metadata": {},
   "outputs": [
    {
     "name": "stdout",
     "output_type": "stream",
     "text": [
      "1\n",
      "1.0\n"
     ]
    }
   ],
   "source": [
    "norm_train_x = normalize(xtrain, 0, 1)\n",
    "norm_val_x = normalize(xval, 0, 1)\n",
    "\n",
    "norm_train_y = normalize(ytrain, 0, 1)\n",
    "norm_val_y = normalize(yval, 0, 1)\n",
    "print(yval[50])\n",
    "print(norm_val_y[50])"
   ]
  },
  {
   "cell_type": "code",
   "execution_count": null,
   "metadata": {},
   "outputs": [
    {
     "name": "stdout",
     "output_type": "stream",
     "text": [
      "60000 60000\n"
     ]
    }
   ],
   "source": [
    "print(len(xtrain), len(ytrain))"
   ]
  },
  {
   "cell_type": "code",
   "execution_count": 20,
   "metadata": {},
   "outputs": [],
   "source": [
    "def target_arr(num_cls, t):\n",
    "    arr = [0] * num_cls\n",
    "    arr[t] = 1\n",
    "    return arr\n",
    "# target_arr(2, 0)\n",
    "# 0 if 0 == 1 else 1"
   ]
  },
  {
   "cell_type": "code",
   "execution_count": 38,
   "metadata": {},
   "outputs": [],
   "source": [
    "import matplotlib.pyplot as plt"
   ]
  },
  {
   "cell_type": "code",
   "execution_count": null,
   "metadata": {},
   "outputs": [
    {
     "ename": "",
     "evalue": "",
     "output_type": "error",
     "traceback": [
      "\u001b[1;31mThe Kernel crashed while executing code in the the current cell or a previous cell. Please review the code in the cell(s) to identify a possible cause of the failure. Click <a href='https://aka.ms/vscodeJupyterKernelCrash'>here</a> for more info. View Jupyter <a href='command:jupyter.viewOutput'>log</a> for further details."
     ]
    }
   ],
   "source": [
    "a_learning_rate = 1e-4\n",
    "mlp = MLP()\n",
    "mlp.set_learning_rate(a_learning_rate)\n",
    "\n",
    "losses = []\n",
    "epochs = 5\n",
    "\n",
    "dldh = [0.0, 0.0, 0.0]\n",
    "dldk = [0.0, 0.0, 0.0]\n",
    "dldo = [0.0, 0.0]\n",
    "dldy = [0.0, 0.0]\n",
    "\n",
    "dldw = [[0.0, 0.0, 0.0], [0.0, 0.0, 0.0]]\n",
    "dldv = [[0.0, 0.0], [0.0, 0.0], [0.0, 0.0]]\n",
    "dldb = [0.0, 0.0, 0.0]\n",
    "dldc = [0.0, 0.0]\n",
    "     \n",
    "w_weights = [[1.0, 1.0, 1.0], [-1.0, -1.0, -1.0]]\n",
    "b_weights = [0.0, 0.0, 0.0] \n",
    "v_weights = [[1.0, 1.0], [-1.0, -1.0], [-1.0, -1.0]]  # rand_weights(3, 2) # # \n",
    "c_weights = [0.0, 0.0]\n",
    "\n",
    "for j in range(epochs):\n",
    "    loss_avg = []\n",
    "    \n",
    "    dldw = [[0.0, 0.0, 0.0], [0.0, 0.0, 0.0]]\n",
    "    dldb = [0.0, 0.0, 0.0]\n",
    "    dldv = [[0.0, 0.0], [0.0, 0.0], [0.0, 0.0]]\n",
    "    dldc = [0.0, 0.0]\n",
    "    \n",
    "    for i in range(len(norm_train_x)):\n",
    "        x1, x2 = norm_train_x[i]\n",
    "        y = 0 if norm_train_y[i] == 1 else 1 \n",
    "        t_targets = target_arr(num_cls, y)\n",
    "        \n",
    "        x_inputs = [x1, x2]\n",
    "        \n",
    "        y_outputs, h_hidden = mlp.forward(x_inputs, w_weights, b_weights, v_weights, c_weights)\n",
    "        loss = mlp.loss(y_outputs, t_targets)\n",
    "        \n",
    "        w_pri, b_pri, v_pri, c_pri = mlp.backward(y_outputs, t_targets, h_hidden, v_weights, x_inputs, dldw, dldb, dldv, dldc)\n",
    "        \n",
    "        dldw += w_pri\n",
    "        dldb += b_pri\n",
    "        dldv += v_pri\n",
    "        dldc += c_pri\n",
    "        \n",
    "        \n",
    "        if i % 1000 == 0:\n",
    "            losses.append(loss)\n",
    "            \n",
    "    v_weights, w_weights, c_weights, b_weights = mlp.sgd(a_learning_rate, w_weights, b_weights, v_weights, c_weights, dldw, dldb, dldv, dldc)\n",
    "    \n",
    "        \n",
    "\n",
    "       \n",
    "       \n",
    "    # loss_arr.append(loss)\n",
    "        \n",
    "        # mlp.set_inputs([x1, x2])\n",
    "        # mlp.set_targets(t_arr)\n",
    "        \n",
    "        # loss = mlp.forward()\n",
    "        # loss_avg.append(loss)\n",
    "    \n",
    "            # mlp.backward()\n",
    "        # mlp.sgd()\n",
    "    \n",
    "    # score = 0\n",
    "    # tot = len(norm_val_x)\n",
    "    # for i in range(tot):\n",
    "    #     x1, x2 = norm_val_x[i]\n",
    "    #     y = 0 if norm_val_y[i] == 1 else 1 \n",
    "    #     t_arr = target_arr(num_cls, y)\n",
    "        \n",
    "    #     mlp.set_inputs([x1, x2])\n",
    "    #     mlp.set_targets(t_arr)\n",
    "        \n",
    "    #     mlp.forward()\n",
    "    #     if mlp.t_targets[0] == 1 and mlp.y_outputs[0] > 0.5:\n",
    "    #         score += 1\n",
    "    # print(f'accuracy: {score / tot}')\n",
    "        \n",
    "    # losses.append(sum(loss_avg)/len(loss_avg))\n",
    "            \n",
    "\n",
    "loss_train = losses\n",
    "episodes = range(0,len(losses))\n",
    "plt.plot(episodes, loss_train, 'g', label='Training loss')\n",
    "plt.title('Training loss')\n",
    "plt.xlabel('Epochs')\n",
    "plt.ylabel('Loss')\n",
    "plt.legend()\n",
    "plt.show()"
   ]
  },
  {
   "cell_type": "code",
   "execution_count": null,
   "metadata": {},
   "outputs": [],
   "source": [
    "losses = []\n",
    "score = 0\n",
    "tot = len(norm_val_x)\n",
    "for i in range(tot):\n",
    "    x1, x2 = norm_val_x[i]\n",
    "    y = 0 if norm_val_y[i] == 1 else 1 \n",
    "    t_arr = target_arr(num_cls, y)\n",
    "    \n",
    "    mlp.set_inputs([x1, x2])\n",
    "    mlp.set_targets(t_arr)\n",
    "    \n",
    "    loss = mlp.forward()\n",
    "    losses.append(loss)\n",
    "    # print(mlp.y_outputs, mlp.t_targets, loss)\n",
    "    if mlp.t_targets[0] == 1 and mlp.y_outputs[0] > 0.5:\n",
    "        score += 1\n",
    "        \n",
    "print(f'accuracy: {score / tot}')\n",
    "        \n",
    "# loss_train = losses\n",
    "# episodes = range(0,len(losses))\n",
    "# plt.plot(episodes, loss_train, 'g', label='Validation loss')\n",
    "# plt.title('Validation loss')\n",
    "# plt.xlabel('Epochs')\n",
    "# plt.ylabel('Loss')\n",
    "# plt.legend()\n",
    "# plt.show()"
   ]
  },
  {
   "cell_type": "code",
   "execution_count": null,
   "metadata": {},
   "outputs": [],
   "source": [
    "import numpy"
   ]
  },
  {
   "cell_type": "code",
   "execution_count": null,
   "metadata": {},
   "outputs": [
    {
     "data": {
      "text/plain": [
       "[0.6652479955699665, 0.33475200443003356]"
      ]
     },
     "execution_count": 115,
     "metadata": {},
     "output_type": "execute_result"
    }
   ],
   "source": [
    "# Continuing the code from where we left off.\n",
    "\n",
    "# We need to import the math module for exp() and uniform from random module for initializing weights and biases.\n",
    "import math\n",
    "import random\n",
    "\n",
    "# Since the neural network in the image has specific weights and biases assigned,\n",
    "# we need to initialize our neurons with those exact values.\n",
    "# For the purpose of this example, I will assume the values are known and manually input them.\n",
    "\n",
    "# Assuming we have 2 inputs, 2 neurons with sigmoid activation in the hidden layer,\n",
    "# and 2 neurons with softmax activation in the output layer as per the image.\n",
    "\n",
    "# Neuron class definition\n",
    "class Neuron:\n",
    "    def __init__(self, weights, bias):\n",
    "        self.weights = weights\n",
    "        self.bias = bias\n",
    "\n",
    "    def activate(self, inputs, activation_function):\n",
    "        # Weighted sum of inputs + bias\n",
    "        z = sum(weight * input for weight, input in zip(self.weights, inputs)) + self.bias\n",
    "        return activation_function(z)\n",
    "\n",
    "# Neural Network class definition\n",
    "class NeuralNetwork:\n",
    "    def __init__(self):\n",
    "        # Manually setting the weights and biases to match the image provided\n",
    "        # Hidden layer with sigmoid activation\n",
    "        self.hidden_neurons = [\n",
    "            Neuron(weights=[1, -1], bias=-1),\n",
    "            Neuron(weights=[1, -1], bias=1),\n",
    "        ]\n",
    "        # Output layer with softmax activation\n",
    "        self.output_neurons = [\n",
    "            Neuron(weights=[1, 1], bias=0),\n",
    "            Neuron(weights=[-1, -1], bias=0),\n",
    "        ]\n",
    "\n",
    "    def feedforward(self, inputs):\n",
    "        # Pass inputs through the hidden layer\n",
    "        hidden_layer_output = [neuron.activate(inputs, sigmoid) for neuron in self.hidden_neurons]\n",
    "\n",
    "        # Pass hidden layer outputs through the output layer\n",
    "        output_layer_output = [neuron.activate(hidden_layer_output, sigmoid) for neuron in self.output_neurons]\n",
    "\n",
    "        # Apply softmax to the output layer's output\n",
    "        return softmax(output_layer_output)\n",
    "\n",
    "def sigmoid(x):\n",
    "    \"\"\"Sigmoid activation function.\"\"\"\n",
    "    return 1 / (1 + math.exp(-x))\n",
    "\n",
    "def softmax(x):\n",
    "    \"\"\"Softmax activation function.\"\"\"\n",
    "    exps = [math.exp(i) for i in x]\n",
    "    sum_exps = sum(exps)\n",
    "    softmax_output = [j/sum_exps for j in exps]\n",
    "    return softmax_output\n",
    "\n",
    "# Let's now re-run the feedforward operation with these functions defined.\n",
    "nn_output = nn.feedforward(input_data)\n",
    "nn_output\n",
    "\n",
    "# Instantiating the neural network\n",
    "nn = NeuralNetwork()\n",
    "\n",
    "# Example input to feedforward through the network\n",
    "# Since the actual input values are not provided, we'll use dummy inputs\n",
    "input_data = [1, -1]\n",
    "\n",
    "# Feedforwarding through the network\n",
    "nn_output = nn.feedforward(input_data)\n",
    "nn_output\n",
    "\n",
    "\n"
   ]
  }
 ],
 "metadata": {
  "kernelspec": {
   "display_name": "deeplearning",
   "language": "python",
   "name": "python3"
  },
  "language_info": {
   "codemirror_mode": {
    "name": "ipython",
    "version": 3
   },
   "file_extension": ".py",
   "mimetype": "text/x-python",
   "name": "python",
   "nbconvert_exporter": "python",
   "pygments_lexer": "ipython3",
   "version": "3.12.0"
  }
 },
 "nbformat": 4,
 "nbformat_minor": 2
}
