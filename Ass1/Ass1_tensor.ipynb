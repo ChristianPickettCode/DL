{
 "cells": [
  {
   "cell_type": "code",
   "execution_count": 27,
   "metadata": {},
   "outputs": [],
   "source": [
    "import numpy as np"
   ]
  },
  {
   "cell_type": "code",
   "execution_count": 56,
   "metadata": {},
   "outputs": [],
   "source": [
    "def n_sigmoid(x):\n",
    "    return 1 / (1 + (np.exp(-x)))\n",
    "\n",
    "def n_softmax(x):\n",
    "    e_x = np.exp(x - np.max(x))  # Subtracting the max value for numerical stability\n",
    "    return e_x / e_x.sum()\n",
    "\n",
    "# def n_batch_softmax(x):\n",
    "#     print('batch soft: ', x)\n",
    "#     e_x = np.exp(x - np.max(x[:]))  # Subtracting the max value for numerical stability\n",
    "#     return e_x / e_x.sum()\n",
    "\n",
    "def n_cross_entropy(predictions, targets):\n",
    "    return -np.sum(targets * np.log(predictions))\n",
    "\n",
    "def n_d_cross_entropy(prediction, target):\n",
    "    return prediction - target\n",
    "\n",
    "# def n_lin(x, W, b):\n",
    "#     # y = xW + b\n",
    "#     return np.dot(x, W) + b\n",
    "\n",
    "# def n_d_lin(x, y_grad, W):\n",
    "#     # y = xW + b\n",
    "    \n",
    "#     # d_x = d_y * W\n",
    "#     d_x = np.dot(y_grad, W.T)\n",
    "    \n",
    "#     # d_W = d_y * x\n",
    "#     d_W = (x.unsqueeze(-1) * y_grad.unsqueeze(1)).sum(0)\n",
    "    \n",
    "#     # d_b = d_y\n",
    "#     d_b = y_grad.sum(0)\n",
    "    \n",
    "#     return d_x, d_W, d_b\n",
    "\n",
    "def n_d_sigmoid(x):\n",
    "    s = n_sigmoid(x)\n",
    "    return s * (1 - s)\n",
    "\n",
    "def n_d_cross_entropy(prediction, target):\n",
    "    return prediction - target\n",
    "\n",
    "def n_d_softmax(softmax_output):\n",
    "    # Simplified version for our case\n",
    "    return softmax_output * (1 - softmax_output)\n",
    "    "
   ]
  },
  {
   "cell_type": "code",
   "execution_count": 164,
   "metadata": {},
   "outputs": [
    {
     "name": "stdout",
     "output_type": "stream",
     "text": [
      "K [2. 2. 2.]\n",
      "H [0.88079708 0.88079708 0.88079708]\n",
      "O [-0.88079708 -0.88079708]\n",
      "Y [0.5 0.5]\n",
      "L 0.6931471805599453\n",
      "DO [-0.5  0.5]\n",
      "DV [[-0.44039854  0.44039854]\n",
      " [-0.44039854  0.44039854]\n",
      " [-0.44039854  0.44039854]]\n",
      "DH [0. 0. 0.]\n",
      "DC [-0.5  0.5]\n",
      "DK [0. 0. 0.]\n",
      "DW [[0. 0. 0.]\n",
      " [0. 0. 0.]]\n",
      "DB [0. 0. 0.]\n",
      "DX [0. 0.]\n",
      "OLD W [[ 1.  1.  1.]\n",
      " [-1. -1. -1.]] [[0. 0. 0.]\n",
      " [0. 0. 0.]]\n",
      "NEW W [[ 1.  1.  1.]\n",
      " [-1. -1. -1.]] [[0. 0. 0.]\n",
      " [0. 0. 0.]]\n",
      "OLD b [0. 0. 0.] [0. 0. 0.]\n",
      "NEW b [0. 0. 0.] [0. 0. 0.]\n",
      "OLD V [[ 1.  1.]\n",
      " [-1. -1.]\n",
      " [-1. -1.]] [[-0.44039854  0.44039854]\n",
      " [-0.44039854  0.44039854]\n",
      " [-0.44039854  0.44039854]]\n",
      "NEW V [[ 1.0004404  0.9995596]\n",
      " [-0.9995596 -1.0004404]\n",
      " [-0.9995596 -1.0004404]] [[-0.44039854  0.44039854]\n",
      " [-0.44039854  0.44039854]\n",
      " [-0.44039854  0.44039854]]\n",
      "OLD c [0. 0.] [-0.5  0.5]\n",
      "NEW c [ 0.0005 -0.0005] [-0.5  0.5]\n"
     ]
    }
   ],
   "source": [
    "lr = 1e-3\n",
    "x = np.array([1, -1])\n",
    "t = np.array([1, 0])\n",
    "\n",
    "num_of_input = 2\n",
    "size_layer_1 = 3\n",
    "size_layer_2 = 2\n",
    "\n",
    "# import pdb; pdb.set_trace()\n",
    "# import pdb; pdb.set_trace()\n",
    "\n",
    "## forward ##\n",
    "\n",
    "# layer 1\n",
    "W = np.array([[1.0, 1.0, 1.0], [-1.0, -1.0, -1.0]])\n",
    "b = np.zeros(size_layer_1)\n",
    "\n",
    "# linear layer : k = x * W + b\n",
    "k = np.dot(x, W) + b\n",
    "assert k.shape[0] == 3\n",
    "print('K', k)\n",
    "\n",
    "# non-linearity : sigmoid : h = sigmoid(k)\n",
    "h = n_sigmoid(k)\n",
    "assert h.shape[0] == 3\n",
    "print('H', h)\n",
    "\n",
    "# layer 2\n",
    "# V = np.zeros(( h.shape[0], size_layer_2))\n",
    "V = np.array([[1.0, 1.0], [-1.0, -1.0], [-1.0, -1.0]])\n",
    "c = np.zeros(size_layer_2)\n",
    "\n",
    "# linear layer : o = h * V + c\n",
    "o = np.dot(h, V) + c\n",
    "assert o.shape[0] == size_layer_2\n",
    "print('O', o)\n",
    "\n",
    "# non-linearity : softmax : y = softmax(o)\n",
    "y = n_softmax(o)\n",
    "assert y.shape[0] == size_layer_2\n",
    "print('Y', y)\n",
    "\n",
    "# loss : cross entropy\n",
    "l = n_cross_entropy(y, t)\n",
    "print('L', l)\n",
    "\n",
    "\n",
    "## backward ##\n",
    "\n",
    "# deriv of ce : dl_dy\n",
    "\n",
    "# layer 1\n",
    "# deriv of softmax : dy_do\n",
    "\n",
    "# deriv of dl_do\n",
    "do = y - t\n",
    "print('DO', do)\n",
    "\n",
    "\n",
    "# deriv of lin wrt V : dV = do * h\n",
    "dV = np.matmul(h.reshape(h.shape[0], 1), do.reshape(1, do.shape[0]))\n",
    "assert dV.shape[0] == h.shape[0]\n",
    "assert dV.shape[1] == do.shape[0]\n",
    "print('DV', dV)\n",
    "\n",
    "\n",
    "# deriv of lin wrt h #  : dh = do * V\n",
    "dh = (do[None, :] * V).sum(axis=1)\n",
    "assert dh.shape[0] == size_layer_1\n",
    "print('DH', dh)\n",
    "\n",
    "# deriv of lin wrt c : dc = do\n",
    "dc = do.copy()\n",
    "print('DC', dc)\n",
    "\n",
    "# layer 2\n",
    "\n",
    "# deriv of sigmoid : dk = dh * n_d_sigmoid\n",
    "dk = dh * n_d_sigmoid(k)\n",
    "print('DK', dk)\n",
    "assert dk.shape[0] == size_layer_1\n",
    "\n",
    "# deriv of lin wrt W : dW = dk * x\n",
    "dW = np.matmul(x.reshape(x.shape[0], 1), dk.reshape(1, dk.shape[0]))\n",
    "print('DW', dW)\n",
    "assert dV.shape[0] == dk.shape[0]\n",
    "assert dV.shape[1] == x.shape[0]\n",
    "\n",
    "# deriv of lin wrt b : db = dk\n",
    "db = dk.copy()\n",
    "print('DB', db)\n",
    "\n",
    "# deriv of lin wrt x # np.dot(dk, W.T) : dx\n",
    "dx = (dk[None, :] * W).sum(axis=1)\n",
    "print('DX', dx)\n",
    "assert dx.shape[0] == 2\n",
    "\n",
    "\n",
    "## sgd ##\n",
    "\n",
    "# update W : W = -lr * dW\n",
    "print('OLD W', W, dW)\n",
    "W = W + -lr * dW\n",
    "print('NEW W', W, dW)\n",
    "\n",
    "# update b : b = -lr * db\n",
    "print('OLD b', b, db)\n",
    "b = b + -lr * db\n",
    "print('NEW b', b, db)\n",
    "\n",
    "# update V : V = -lr * dV\n",
    "print('OLD V', V, dV)\n",
    "V = V + -lr * dV\n",
    "print('NEW V', V, dV)\n",
    "\n",
    "# update c : b = -lr * dc\n",
    "print('OLD c', c, dc)\n",
    "c = c + -lr * dc\n",
    "print('NEW c', c, dc)"
   ]
  },
  {
   "cell_type": "code",
   "execution_count": 56,
   "metadata": {},
   "outputs": [
    {
     "data": {
      "text/plain": [
       "array([0.])"
      ]
     },
     "execution_count": 56,
     "metadata": {},
     "output_type": "execute_result"
    }
   ],
   "source": [
    "# (h * W).sum()\n",
    "t_h = np.array([0.5, 0.5])\n",
    "t_dl = np.array([-0.5,  0.5])\n",
    "\n",
    "# Reshape the matrices to enable multiplication\n",
    "# t_h needs to be a 2D array of shape (1, 3)\n",
    "# t_dl needs to be a 2D array of shape (2, 1)\n",
    "# t_h_reshaped = t_h.reshape(3, 1)\n",
    "# t_dl_reshaped = t_dl.reshape(1, 2)\n",
    "\n",
    "# Multiply the matrices\n",
    "result = (t_dl[None, :] * t_h).sum(axis=1)\n",
    "\n",
    "result\n",
    "\n",
    "# dl = h.reshape(1, h.shape[0])\n",
    "# dV = np.matmul(dl, h.T)\n",
    "# print(dV)\n",
    "\n",
    "# dl = n_d_cross_entropy(y, t)\n",
    "# assert dl.shape[0] == 2\n",
    "# print('DL', dl)\n",
    "\n"
   ]
  },
  {
   "cell_type": "code",
   "execution_count": 116,
   "metadata": {},
   "outputs": [
    {
     "name": "stdout",
     "output_type": "stream",
     "text": [
      "[0.888 0.888 0.888] (3,) [-0.5  0.5] (2,)\n"
     ]
    }
   ],
   "source": [
    "# output\n",
    "np.array([[-0.44039853898894116, 0.44039853898894116],\n",
    "   [-0.44039853898894116, 0.44039853898894116],\n",
    "   [-0.44039853898894116, 0.44039853898894116]]).shape\n",
    "\n",
    "h = np.array([0.888, 0.888, 0.888])\n",
    "do = np.array([-0.5, 0.5])\n",
    "print(h, h.shape, do, do.shape)\n"
   ]
  },
  {
   "cell_type": "code",
   "execution_count": 135,
   "metadata": {},
   "outputs": [],
   "source": [
    "# h shape = (3, ) -> (3, 1)\n",
    "# do shape = (2, ) -> (1, 2)\n",
    "# goal shape = (3, 2)\n",
    "dv = np.matmul(h.reshape(h.shape[0], 1), do.reshape(1, do.shape[0]))"
   ]
  },
  {
   "cell_type": "markdown",
   "metadata": {},
   "source": [
    "# Above is working don't mess with it!"
   ]
  },
  {
   "cell_type": "code",
   "execution_count": 28,
   "metadata": {},
   "outputs": [],
   "source": [
    "def lin(input, weight, bias):\n",
    "    return np.dot(input, weight) + bias"
   ]
  },
  {
   "cell_type": "code",
   "execution_count": 29,
   "metadata": {},
   "outputs": [],
   "source": [
    "def lin_grad(lin_input, output_grad, weights):\n",
    "    dW = np.matmul(lin_input.reshape(lin_input.shape[0], 1), output_grad.reshape(1, output_grad.shape[0]))\n",
    "    dx = (output_grad[None, :] * weights).sum(axis=1)\n",
    "    db = output_grad.copy()\n",
    "    return dW, dx, db"
   ]
  },
  {
   "cell_type": "code",
   "execution_count": 172,
   "metadata": {},
   "outputs": [
    {
     "name": "stdout",
     "output_type": "stream",
     "text": [
      "K [2. 2. 2.]\n",
      "H [0.88079708 0.88079708 0.88079708]\n",
      "O [-0.88079708 -0.88079708]\n",
      "Y [0.5 0.5]\n",
      "L 0.6931471805599453\n",
      "DO [-0.5  0.5]\n",
      "DV [[-0.44039854  0.44039854]\n",
      " [-0.44039854  0.44039854]\n",
      " [-0.44039854  0.44039854]]\n",
      "DH [0. 0. 0.]\n",
      "DC [-0.5  0.5]\n",
      "DK [0. 0. 0.]\n",
      "DW [[0. 0. 0.]\n",
      " [0. 0. 0.]]\n",
      "DB [0. 0. 0.]\n",
      "DX [0. 0.]\n",
      "OLD W [[ 1.  1.  1.]\n",
      " [-1. -1. -1.]] [[0. 0. 0.]\n",
      " [0. 0. 0.]]\n",
      "NEW W [[ 1.  1.  1.]\n",
      " [-1. -1. -1.]] [[0. 0. 0.]\n",
      " [0. 0. 0.]]\n",
      "OLD b [0. 0. 0.] [0. 0. 0.]\n",
      "NEW b [0. 0. 0.] [0. 0. 0.]\n",
      "OLD V [[ 1.  1.]\n",
      " [-1. -1.]\n",
      " [-1. -1.]] [[-0.44039854  0.44039854]\n",
      " [-0.44039854  0.44039854]\n",
      " [-0.44039854  0.44039854]]\n",
      "NEW V [[ 1.0004404  0.9995596]\n",
      " [-0.9995596 -1.0004404]\n",
      " [-0.9995596 -1.0004404]] [[-0.44039854  0.44039854]\n",
      " [-0.44039854  0.44039854]\n",
      " [-0.44039854  0.44039854]]\n",
      "OLD c [0. 0.] [-0.5  0.5]\n",
      "NEW c [ 0.0005 -0.0005] [-0.5  0.5]\n"
     ]
    }
   ],
   "source": [
    "lr = 1e-3\n",
    "\n",
    "x = np.array([1, -1])\n",
    "t = np.array([1, 0])\n",
    "\n",
    "num_of_input = 2\n",
    "size_layer_1 = 3\n",
    "size_layer_2 = 2\n",
    "\n",
    "W = np.array([[1.0, 1.0, 1.0], [-1.0, -1.0, -1.0]])\n",
    "b = np.zeros(size_layer_1)\n",
    "\n",
    "V = np.array([[1.0, 1.0], [-1.0, -1.0], [-1.0, -1.0]]) # V = np.zeros(( h.shape[0], size_layer_2))\n",
    "c = np.zeros(size_layer_2)\n",
    "\n",
    "# import pdb; pdb.set_trace()\n",
    "\n",
    "## forward ##\n",
    "\n",
    "# layer 1\n",
    "\n",
    "# linear layer : k = x * W + b\n",
    "k = lin(x, W, b)\n",
    "assert k.shape[0] == 3\n",
    "print('K', k)\n",
    "\n",
    "# non-linearity : sigmoid : h = sigmoid(k)\n",
    "h = n_sigmoid(k)\n",
    "assert h.shape[0] == 3\n",
    "print('H', h)\n",
    "\n",
    "# layer 2\n",
    "\n",
    "# linear layer : o = h * V + c\n",
    "o = lin(h, V, c)\n",
    "assert o.shape[0] == size_layer_2\n",
    "print('O', o)\n",
    "\n",
    "# non-linearity : softmax : y = softmax(o)\n",
    "y = n_softmax(o)\n",
    "assert y.shape[0] == size_layer_2\n",
    "print('Y', y)\n",
    "\n",
    "# loss : cross entropy\n",
    "l = n_cross_entropy(y, t)\n",
    "print('L', l)\n",
    "\n",
    "\n",
    "## backward ##\n",
    "\n",
    "# deriv of ce : dl_dy\n",
    "\n",
    "# layer 1\n",
    "# deriv of softmax : dy_do\n",
    "\n",
    "# deriv of dl_do\n",
    "do = y - t\n",
    "print('DO', do)\n",
    "\n",
    "\n",
    "# deriv of lin wrt V : dV = do * h\n",
    "dV, dh, dc = lin_grad(h, do, V)\n",
    "\n",
    "# dV = np.matmul(h.reshape(h.shape[0], 1), do.reshape(1, do.shape[0]))\n",
    "# assert dV.shape[0] == h.shape[0]\n",
    "# assert dV.shape[1] == do.shape[0]\n",
    "print('DV', dV)\n",
    "\n",
    "\n",
    "# # deriv of lin wrt h #  : dh = do * V\n",
    "# dh = (do[None, :] * V).sum(axis=1)\n",
    "# assert dh.shape[0] == size_layer_1\n",
    "print('DH', dh)\n",
    "\n",
    "# # deriv of lin wrt c : dc = do\n",
    "# dc = do.copy()\n",
    "print('DC', dc)\n",
    "\n",
    "# layer 2\n",
    "\n",
    "# deriv of sigmoid : dk = dh * n_d_sigmoid\n",
    "dk = dh * n_d_sigmoid(k)\n",
    "print('DK', dk)\n",
    "assert dk.shape[0] == size_layer_1\n",
    "\n",
    "# deriv of lin wrt W : dW = dk * x\n",
    "dW, dx, db = lin_grad(x, dk, W)\n",
    "\n",
    "# dW = np.matmul(x.reshape(x.shape[0], 1), dk.reshape(1, dk.shape[0]))\n",
    "print('DW', dW)\n",
    "# assert dV.shape[0] == dk.shape[0]\n",
    "# assert dV.shape[1] == x.shape[0]\n",
    "\n",
    "# # deriv of lin wrt b : db = dk\n",
    "# db = dk.copy()\n",
    "print('DB', db)\n",
    "\n",
    "# # deriv of lin wrt x # np.dot(dk, W.T) : dx\n",
    "# dx = (dk[None, :] * W).sum(axis=1)\n",
    "print('DX', dx)\n",
    "# assert dx.shape[0] == 2\n",
    "\n",
    "\n",
    "## sgd ##\n",
    "\n",
    "# update W : W = -lr * dW\n",
    "print('OLD W', W, dW)\n",
    "W = W + -lr * dW\n",
    "print('NEW W', W, dW)\n",
    "\n",
    "# update b : b = -lr * db\n",
    "print('OLD b', b, db)\n",
    "b = b + -lr * db\n",
    "print('NEW b', b, db)\n",
    "\n",
    "# update V : V = -lr * dV\n",
    "print('OLD V', V, dV)\n",
    "V = V + -lr * dV\n",
    "print('NEW V', V, dV)\n",
    "\n",
    "# update c : b = -lr * dc\n",
    "print('OLD c', c, dc)\n",
    "c = c + -lr * dc\n",
    "print('NEW c', c, dc)"
   ]
  },
  {
   "cell_type": "code",
   "execution_count": null,
   "metadata": {},
   "outputs": [],
   "source": [
    "# print('ACC W', W, a_dW)\n",
    "# print('ACC b', b, a_db)\n",
    "# print('ACC V', V, a_dV)\n",
    "# print('ACC c', c, a_dc)\n",
    "    \n",
    "# x = np.array([1, -1])\n",
    "# t = np.array([1, 0])\n",
    "# np.array([[1.0, 1.0, 1.0], [-1.0, -1.0, -1.0]]) # num_of_input x size_layer_1\n",
    "# np.array([[1.0, 1.0], [-1.0, -1.0], [-1.0, -1.0]]) # size_layer_1 x size_layer_2"
   ]
  },
  {
   "cell_type": "code",
   "execution_count": 24,
   "metadata": {},
   "outputs": [],
   "source": [
    "from data import load_synth\n",
    "(xtrain, ytrain), (xval, yval), num_cls = load_synth()\n",
    "\n",
    "def normalize(arr, t_min, t_max):\n",
    "    norm_arr = []\n",
    "    diff = t_max - t_min\n",
    "    diff_arr = arr.max() - arr.min()    \n",
    "    for i in arr:\n",
    "        temp = (((i - arr.min())*diff)/diff_arr) + t_min\n",
    "        norm_arr.append(temp)\n",
    "    return norm_arr\n",
    "\n",
    "def target_arr(num_cls, t):\n",
    "    arr = [0] * num_cls\n",
    "    arr[t] = 1\n",
    "    return arr\n",
    "\n",
    "\n",
    "norm_train_x = normalize(xtrain, 0, 1)\n",
    "norm_val_x = normalize(xval, 0, 1)\n",
    "\n",
    "norm_train_y = normalize(ytrain, 0, 1)\n",
    "norm_val_y = normalize(yval, 0, 1)"
   ]
  },
  {
   "cell_type": "code",
   "execution_count": 30,
   "metadata": {},
   "outputs": [],
   "source": [
    "import matplotlib.pyplot as plt\n",
    "\n",
    "def plot_losses(loss_train):\n",
    "    epochs = range(0,len(loss_train))\n",
    "    plt.plot(epochs, loss_train, 'g', label='Training loss')\n",
    "    plt.title('Training loss')\n",
    "    plt.xlabel('Epochs')\n",
    "    plt.ylabel('Loss')\n",
    "    plt.legend()\n",
    "    plt.show()"
   ]
  },
  {
   "cell_type": "code",
   "execution_count": 36,
   "metadata": {},
   "outputs": [
    {
     "name": "stdout",
     "output_type": "stream",
     "text": [
      "Done epoch : 1\n",
      "Done epoch : 2\n",
      "Done epoch : 3\n",
      "Done epoch : 4\n",
      "Done epoch : 5\n"
     ]
    },
    {
     "data": {
      "image/png": "[encoded data removed]",
      "text/plain": [
       "<Figure size 640x480 with 1 Axes>"
      ]
     },
     "metadata": {},
     "output_type": "display_data"
    }
   ],
   "source": [
    "lr = 1e-5\n",
    "\n",
    "num_of_input = 2\n",
    "size_layer_1 = 3\n",
    "size_layer_2 = 2\n",
    "\n",
    "W = np.random.randn(num_of_input, size_layer_1) \n",
    "b = np.zeros(size_layer_1)\n",
    "\n",
    "V = np.random.randn(size_layer_1, size_layer_2) \n",
    "c = np.zeros(size_layer_2)\n",
    "\n",
    "len_train = len(norm_train_x)\n",
    "\n",
    "epoch = 5\n",
    "losses = []\n",
    "\n",
    "for e in range(epoch):\n",
    "    a_dW = np.zeros((num_of_input, size_layer_1))\n",
    "    a_dV = np.zeros((size_layer_1, size_layer_2))\n",
    "    a_db = np.zeros(size_layer_1)\n",
    "    a_dc = np.zeros(size_layer_2)\n",
    "    \n",
    "    loss = []\n",
    "    \n",
    "    for i in range(len_train):\n",
    "        in1, in2 = norm_train_x[i]\n",
    "        out = 0 if norm_train_y[i] == 1 else 1 \n",
    "        t = np.array(target_arr(num_cls, out))\n",
    "        x = np.array([in1, in2])\n",
    "        \n",
    "        k = lin(x, W, b)\n",
    "        h = n_sigmoid(k)\n",
    "        o = lin(h, V, c)\n",
    "        y = n_softmax(o)\n",
    "        \n",
    "        l = n_cross_entropy(y, t)\n",
    "        loss.append(l)\n",
    "        \n",
    "        do = y - t\n",
    "        dV, dh, dc = lin_grad(h, do, V)\n",
    "        dk = dh * n_d_sigmoid(k)\n",
    "        dW, dx, db = lin_grad(x, dk, W)\n",
    "        \n",
    "        # accumulate gradients\n",
    "        a_dW += dW\n",
    "        a_dV += dV\n",
    "        a_db += db\n",
    "        a_dc += dc\n",
    "    \n",
    "    # sgd\n",
    "    W = W + -lr * a_dW\n",
    "    b = b + -lr * a_db\n",
    "    V = V + -lr * a_dV\n",
    "    c = c + -lr * a_dc\n",
    "    \n",
    "    losses.append(np.mean(loss))\n",
    "    \n",
    "    print(f'Done epoch : {e+1}')\n",
    "    \n",
    "    \n",
    "plot_losses(losses)\n",
    "    "
   ]
  },
  {
   "cell_type": "markdown",
   "metadata": {},
   "source": [
    "# THE ABOVE WORKS DON'T FUCK WITH IT!!!"
   ]
  },
  {
   "cell_type": "code",
   "execution_count": 1,
   "metadata": {},
   "outputs": [],
   "source": [
    "import mnist"
   ]
  },
  {
   "cell_type": "code",
   "execution_count": null,
   "metadata": {},
   "outputs": [],
   "source": [
    "mnist.init()"
   ]
  },
  {
   "cell_type": "code",
   "execution_count": 101,
   "metadata": {},
   "outputs": [],
   "source": [
    "m_x_train, m_t_train, m_x_test, m_t_test = mnist.load()"
   ]
  },
  {
   "cell_type": "code",
   "execution_count": 102,
   "metadata": {},
   "outputs": [
    {
     "data": {
      "text/plain": [
       "array([  0,   0,   0,   0,   0,   0,   0,   0,   0,   0,   0,   0,   0,\n",
       "         0,   0,   0,   0,   0,   0,   0,   0,   0,   0,   0,   0,   0,\n",
       "         0,   0,   0,   0,   0,   0,   0,   0,   0,   0,   0,   0,   0,\n",
       "         0,   0,   0,   0,   0,   0,   0,   0,   0,   0,   0,   0,   0,\n",
       "         0,   0,   0,   0,   0,   0,   0,   0,   0,   0,   0,   0,   0,\n",
       "         0,   0,   0,   0,   0,   0,   0,   0,   0,   0,   0,   0,   0,\n",
       "         0,   0,   0,   0,   0,   0,   0,   0,   0,   0,   0,   0,   0,\n",
       "         0,   0,   0,   0,   0,   0,   0,   0,   0,   0,   0,   0,   0,\n",
       "         0,   0,   0,   0,   0,   0,   0,   0,   0,   0,   0,   0,   0,\n",
       "         0,   0,   0,   0,   0,   0,   0,   0,   0,   0,   0,   0,   0,\n",
       "         0,   0,   0,   0,   0,   0,   0,   0,   0,   0,   0,   0,   0,\n",
       "         0,   0,   0,   0,   0,   0,   0,   0,   0,   3,  18,  18,  18,\n",
       "       126, 136, 175,  26, 166, 255, 247, 127,   0,   0,   0,   0,   0,\n",
       "         0,   0,   0,   0,   0,   0,   0,  30,  36,  94, 154, 170, 253,\n",
       "       253, 253, 253, 253, 225, 172, 253, 242, 195,  64,   0,   0,   0,\n",
       "         0,   0,   0,   0,   0,   0,   0,   0,  49, 238, 253, 253, 253,\n",
       "       253, 253, 253, 253, 253, 251,  93,  82,  82,  56,  39,   0,   0,\n",
       "         0,   0,   0,   0,   0,   0,   0,   0,   0,   0,  18, 219, 253,\n",
       "       253, 253, 253, 253, 198, 182, 247, 241,   0,   0,   0,   0,   0,\n",
       "         0,   0,   0,   0,   0,   0,   0,   0,   0,   0,   0,   0,   0,\n",
       "        80, 156, 107, 253, 253, 205,  11,   0,  43, 154,   0,   0,   0,\n",
       "         0,   0,   0,   0,   0,   0,   0,   0,   0,   0,   0,   0,   0,\n",
       "         0,   0,   0,  14,   1, 154, 253,  90,   0,   0,   0,   0,   0,\n",
       "         0,   0,   0,   0,   0,   0,   0,   0,   0,   0,   0,   0,   0,\n",
       "         0,   0,   0,   0,   0,   0,   0, 139, 253, 190,   2,   0,   0,\n",
       "         0,   0,   0,   0,   0,   0,   0,   0,   0,   0,   0,   0,   0,\n",
       "         0,   0,   0,   0,   0,   0,   0,   0,   0,  11, 190, 253,  70,\n",
       "         0,   0,   0,   0,   0,   0,   0,   0,   0,   0,   0,   0,   0,\n",
       "         0,   0,   0,   0,   0,   0,   0,   0,   0,   0,   0,   0,  35,\n",
       "       241, 225, 160, 108,   1,   0,   0,   0,   0,   0,   0,   0,   0,\n",
       "         0,   0,   0,   0,   0,   0,   0,   0,   0,   0,   0,   0,   0,\n",
       "         0,   0,  81, 240, 253, 253, 119,  25,   0,   0,   0,   0,   0,\n",
       "         0,   0,   0,   0,   0,   0,   0,   0,   0,   0,   0,   0,   0,\n",
       "         0,   0,   0,   0,   0,  45, 186, 253, 253, 150,  27,   0,   0,\n",
       "         0,   0,   0,   0,   0,   0,   0,   0,   0,   0,   0,   0,   0,\n",
       "         0,   0,   0,   0,   0,   0,   0,   0,  16,  93, 252, 253, 187,\n",
       "         0,   0,   0,   0,   0,   0,   0,   0,   0,   0,   0,   0,   0,\n",
       "         0,   0,   0,   0,   0,   0,   0,   0,   0,   0,   0,   0, 249,\n",
       "       253, 249,  64,   0,   0,   0,   0,   0,   0,   0,   0,   0,   0,\n",
       "         0,   0,   0,   0,   0,   0,   0,   0,   0,   0,   0,  46, 130,\n",
       "       183, 253, 253, 207,   2,   0,   0,   0,   0,   0,   0,   0,   0,\n",
       "         0,   0,   0,   0,   0,   0,   0,   0,   0,   0,   0,  39, 148,\n",
       "       229, 253, 253, 253, 250, 182,   0,   0,   0,   0,   0,   0,   0,\n",
       "         0,   0,   0,   0,   0,   0,   0,   0,   0,   0,   0,  24, 114,\n",
       "       221, 253, 253, 253, 253, 201,  78,   0,   0,   0,   0,   0,   0,\n",
       "         0,   0,   0,   0,   0,   0,   0,   0,   0,   0,   0,  23,  66,\n",
       "       213, 253, 253, 253, 253, 198,  81,   2,   0,   0,   0,   0,   0,\n",
       "         0,   0,   0,   0,   0,   0,   0,   0,   0,   0,   0,  18, 171,\n",
       "       219, 253, 253, 253, 253, 195,  80,   9,   0,   0,   0,   0,   0,\n",
       "         0,   0,   0,   0,   0,   0,   0,   0,   0,   0,   0,  55, 172,\n",
       "       226, 253, 253, 253, 253, 244, 133,  11,   0,   0,   0,   0,   0,\n",
       "         0,   0,   0,   0,   0,   0,   0,   0,   0,   0,   0,   0,   0,\n",
       "       136, 253, 253, 253, 212, 135, 132,  16,   0,   0,   0,   0,   0,\n",
       "         0,   0,   0,   0,   0,   0,   0,   0,   0,   0,   0,   0,   0,\n",
       "         0,   0,   0,   0,   0,   0,   0,   0,   0,   0,   0,   0,   0,\n",
       "         0,   0,   0,   0,   0,   0,   0,   0,   0,   0,   0,   0,   0,\n",
       "         0,   0,   0,   0,   0,   0,   0,   0,   0,   0,   0,   0,   0,\n",
       "         0,   0,   0,   0,   0,   0,   0,   0,   0,   0,   0,   0,   0,\n",
       "         0,   0,   0,   0,   0,   0,   0,   0,   0,   0,   0,   0,   0,\n",
       "         0,   0,   0,   0,   0,   0,   0,   0,   0,   0,   0,   0,   0,\n",
       "         0,   0,   0,   0], dtype=uint8)"
      ]
     },
     "execution_count": 102,
     "metadata": {},
     "output_type": "execute_result"
    }
   ],
   "source": [
    "m_x_train[0]"
   ]
  },
  {
   "cell_type": "code",
   "execution_count": 96,
   "metadata": {},
   "outputs": [],
   "source": [
    "# note : normalize the test set wrt to the training set (frm class)\n",
    "def n_normalize(v, ma, mi):\n",
    "    norm = (v - mi) / (ma - mi)\n",
    "    return norm"
   ]
  },
  {
   "cell_type": "code",
   "execution_count": 105,
   "metadata": {},
   "outputs": [],
   "source": [
    "ma = m_x_train.max()\n",
    "mi = m_x_train.min()\n",
    "\n",
    "m_x_train_normize = n_normalize(m_x_train, ma, mi)"
   ]
  },
  {
   "cell_type": "code",
   "execution_count": 137,
   "metadata": {},
   "outputs": [
    {
     "data": {
      "text/plain": [
       "array([0.        , 0.        , 0.        , 0.        , 0.        ,\n",
       "       0.        , 0.        , 0.        , 0.        , 0.        ,\n",
       "       0.        , 0.        , 0.        , 0.        , 0.        ,\n",
       "       0.        , 0.        , 0.        , 0.        , 0.        ,\n",
       "       0.        , 0.        , 0.        , 0.        , 0.        ,\n",
       "       0.        , 0.        , 0.        , 0.        , 0.        ,\n",
       "       0.        , 0.        , 0.        , 0.        , 0.        ,\n",
       "       0.        , 0.        , 0.        , 0.        , 0.        ,\n",
       "       0.        , 0.        , 0.        , 0.        , 0.        ,\n",
       "       0.        , 0.        , 0.        , 0.        , 0.        ,\n",
       "       0.        , 0.        , 0.        , 0.        , 0.        ,\n",
       "       0.        , 0.        , 0.        , 0.        , 0.        ,\n",
       "       0.        , 0.        , 0.        , 0.        , 0.        ,\n",
       "       0.        , 0.        , 0.        , 0.        , 0.        ,\n",
       "       0.        , 0.        , 0.        , 0.        , 0.        ,\n",
       "       0.        , 0.        , 0.        , 0.        , 0.        ,\n",
       "       0.        , 0.        , 0.        , 0.        , 0.        ,\n",
       "       0.        , 0.        , 0.        , 0.        , 0.        ,\n",
       "       0.        , 0.        , 0.        , 0.        , 0.        ,\n",
       "       0.        , 0.        , 0.        , 0.        , 0.        ,\n",
       "       0.        , 0.        , 0.        , 0.        , 0.        ,\n",
       "       0.        , 0.        , 0.        , 0.        , 0.        ,\n",
       "       0.        , 0.        , 0.        , 0.        , 0.        ,\n",
       "       0.        , 0.        , 0.        , 0.        , 0.        ,\n",
       "       0.        , 0.        , 0.        , 0.        , 0.        ,\n",
       "       0.        , 0.        , 0.2       , 0.62352941, 0.99215686,\n",
       "       0.62352941, 0.19607843, 0.        , 0.        , 0.        ,\n",
       "       0.        , 0.        , 0.        , 0.        , 0.        ,\n",
       "       0.        , 0.        , 0.        , 0.        , 0.        ,\n",
       "       0.        , 0.        , 0.        , 0.        , 0.        ,\n",
       "       0.        , 0.        , 0.        , 0.        , 0.18823529,\n",
       "       0.93333333, 0.98823529, 0.98823529, 0.98823529, 0.92941176,\n",
       "       0.        , 0.        , 0.        , 0.        , 0.        ,\n",
       "       0.        , 0.        , 0.        , 0.        , 0.        ,\n",
       "       0.        , 0.        , 0.        , 0.        , 0.        ,\n",
       "       0.        , 0.        , 0.        , 0.        , 0.        ,\n",
       "       0.        , 0.21176471, 0.89019608, 0.99215686, 0.98823529,\n",
       "       0.9372549 , 0.91372549, 0.98823529, 0.22352941, 0.02352941,\n",
       "       0.        , 0.        , 0.        , 0.        , 0.        ,\n",
       "       0.        , 0.        , 0.        , 0.        , 0.        ,\n",
       "       0.        , 0.        , 0.        , 0.        , 0.        ,\n",
       "       0.        , 0.        , 0.03921569, 0.23529412, 0.87843137,\n",
       "       0.98823529, 0.99215686, 0.98823529, 0.79215686, 0.32941176,\n",
       "       0.98823529, 0.99215686, 0.47843137, 0.        , 0.        ,\n",
       "       0.        , 0.        , 0.        , 0.        , 0.        ,\n",
       "       0.        , 0.        , 0.        , 0.        , 0.        ,\n",
       "       0.        , 0.        , 0.        , 0.        , 0.        ,\n",
       "       0.63921569, 0.98823529, 0.98823529, 0.98823529, 0.99215686,\n",
       "       0.98823529, 0.98823529, 0.37647059, 0.74117647, 0.99215686,\n",
       "       0.65490196, 0.        , 0.        , 0.        , 0.        ,\n",
       "       0.        , 0.        , 0.        , 0.        , 0.        ,\n",
       "       0.        , 0.        , 0.        , 0.        , 0.        ,\n",
       "       0.        , 0.        , 0.2       , 0.93333333, 0.99215686,\n",
       "       0.99215686, 0.74509804, 0.44705882, 0.99215686, 0.89411765,\n",
       "       0.18431373, 0.30980392, 1.        , 0.65882353, 0.        ,\n",
       "       0.        , 0.        , 0.        , 0.        , 0.        ,\n",
       "       0.        , 0.        , 0.        , 0.        , 0.        ,\n",
       "       0.        , 0.        , 0.        , 0.        , 0.18823529,\n",
       "       0.93333333, 0.98823529, 0.98823529, 0.70196078, 0.04705882,\n",
       "       0.29411765, 0.4745098 , 0.08235294, 0.        , 0.        ,\n",
       "       0.99215686, 0.95294118, 0.19607843, 0.        , 0.        ,\n",
       "       0.        , 0.        , 0.        , 0.        , 0.        ,\n",
       "       0.        , 0.        , 0.        , 0.        , 0.        ,\n",
       "       0.        , 0.14901961, 0.64705882, 0.99215686, 0.91372549,\n",
       "       0.81568627, 0.32941176, 0.        , 0.        , 0.        ,\n",
       "       0.        , 0.        , 0.        , 0.99215686, 0.98823529,\n",
       "       0.64705882, 0.        , 0.        , 0.        , 0.        ,\n",
       "       0.        , 0.        , 0.        , 0.        , 0.        ,\n",
       "       0.        , 0.        , 0.        , 0.02745098, 0.69803922,\n",
       "       0.98823529, 0.94117647, 0.27843137, 0.0745098 , 0.10980392,\n",
       "       0.        , 0.        , 0.        , 0.        , 0.        ,\n",
       "       0.        , 0.99215686, 0.98823529, 0.76470588, 0.        ,\n",
       "       0.        , 0.        , 0.        , 0.        , 0.        ,\n",
       "       0.        , 0.        , 0.        , 0.        , 0.        ,\n",
       "       0.        , 0.22352941, 0.98823529, 0.98823529, 0.24705882,\n",
       "       0.        , 0.        , 0.        , 0.        , 0.        ,\n",
       "       0.        , 0.        , 0.        , 0.        , 0.99215686,\n",
       "       0.98823529, 0.76470588, 0.        , 0.        , 0.        ,\n",
       "       0.        , 0.        , 0.        , 0.        , 0.        ,\n",
       "       0.        , 0.        , 0.        , 0.        , 0.77647059,\n",
       "       0.99215686, 0.74509804, 0.        , 0.        , 0.        ,\n",
       "       0.        , 0.        , 0.        , 0.        , 0.        ,\n",
       "       0.        , 0.        , 1.        , 0.99215686, 0.76862745,\n",
       "       0.        , 0.        , 0.        , 0.        , 0.        ,\n",
       "       0.        , 0.        , 0.        , 0.        , 0.        ,\n",
       "       0.        , 0.29803922, 0.96470588, 0.98823529, 0.43921569,\n",
       "       0.        , 0.        , 0.        , 0.        , 0.        ,\n",
       "       0.        , 0.        , 0.        , 0.        , 0.        ,\n",
       "       0.99215686, 0.98823529, 0.58039216, 0.        , 0.        ,\n",
       "       0.        , 0.        , 0.        , 0.        , 0.        ,\n",
       "       0.        , 0.        , 0.        , 0.        , 0.33333333,\n",
       "       0.98823529, 0.90196078, 0.09803922, 0.        , 0.        ,\n",
       "       0.        , 0.        , 0.        , 0.        , 0.        ,\n",
       "       0.        , 0.02745098, 0.52941176, 0.99215686, 0.72941176,\n",
       "       0.04705882, 0.        , 0.        , 0.        , 0.        ,\n",
       "       0.        , 0.        , 0.        , 0.        , 0.        ,\n",
       "       0.        , 0.        , 0.33333333, 0.98823529, 0.8745098 ,\n",
       "       0.        , 0.        , 0.        , 0.        , 0.        ,\n",
       "       0.        , 0.        , 0.        , 0.02745098, 0.51372549,\n",
       "       0.98823529, 0.88235294, 0.27843137, 0.        , 0.        ,\n",
       "       0.        , 0.        , 0.        , 0.        , 0.        ,\n",
       "       0.        , 0.        , 0.        , 0.        , 0.        ,\n",
       "       0.33333333, 0.98823529, 0.56862745, 0.        , 0.        ,\n",
       "       0.        , 0.        , 0.        , 0.        , 0.        ,\n",
       "       0.18823529, 0.64705882, 0.98823529, 0.67843137, 0.        ,\n",
       "       0.        , 0.        , 0.        , 0.        , 0.        ,\n",
       "       0.        , 0.        , 0.        , 0.        , 0.        ,\n",
       "       0.        , 0.        , 0.        , 0.3372549 , 0.99215686,\n",
       "       0.88235294, 0.        , 0.        , 0.        , 0.        ,\n",
       "       0.        , 0.        , 0.44705882, 0.93333333, 0.99215686,\n",
       "       0.63529412, 0.        , 0.        , 0.        , 0.        ,\n",
       "       0.        , 0.        , 0.        , 0.        , 0.        ,\n",
       "       0.        , 0.        , 0.        , 0.        , 0.        ,\n",
       "       0.        , 0.33333333, 0.98823529, 0.97647059, 0.57254902,\n",
       "       0.18823529, 0.11372549, 0.33333333, 0.69803922, 0.88235294,\n",
       "       0.99215686, 0.8745098 , 0.65490196, 0.21960784, 0.        ,\n",
       "       0.        , 0.        , 0.        , 0.        , 0.        ,\n",
       "       0.        , 0.        , 0.        , 0.        , 0.        ,\n",
       "       0.        , 0.        , 0.        , 0.        , 0.33333333,\n",
       "       0.98823529, 0.98823529, 0.98823529, 0.89803922, 0.84313725,\n",
       "       0.98823529, 0.98823529, 0.98823529, 0.76862745, 0.50980392,\n",
       "       0.        , 0.        , 0.        , 0.        , 0.        ,\n",
       "       0.        , 0.        , 0.        , 0.        , 0.        ,\n",
       "       0.        , 0.        , 0.        , 0.        , 0.        ,\n",
       "       0.        , 0.        , 0.10980392, 0.78039216, 0.98823529,\n",
       "       0.98823529, 0.99215686, 0.98823529, 0.98823529, 0.91372549,\n",
       "       0.56862745, 0.        , 0.        , 0.        , 0.        ,\n",
       "       0.        , 0.        , 0.        , 0.        , 0.        ,\n",
       "       0.        , 0.        , 0.        , 0.        , 0.        ,\n",
       "       0.        , 0.        , 0.        , 0.        , 0.        ,\n",
       "       0.        , 0.09803922, 0.50196078, 0.98823529, 0.99215686,\n",
       "       0.98823529, 0.55294118, 0.14509804, 0.        , 0.        ,\n",
       "       0.        , 0.        , 0.        , 0.        , 0.        ,\n",
       "       0.        , 0.        , 0.        , 0.        , 0.        ,\n",
       "       0.        , 0.        , 0.        , 0.        , 0.        ,\n",
       "       0.        , 0.        , 0.        , 0.        , 0.        ,\n",
       "       0.        , 0.        , 0.        , 0.        , 0.        ,\n",
       "       0.        , 0.        , 0.        , 0.        , 0.        ,\n",
       "       0.        , 0.        , 0.        , 0.        , 0.        ,\n",
       "       0.        , 0.        , 0.        , 0.        , 0.        ,\n",
       "       0.        , 0.        , 0.        , 0.        , 0.        ,\n",
       "       0.        , 0.        , 0.        , 0.        , 0.        ,\n",
       "       0.        , 0.        , 0.        , 0.        , 0.        ,\n",
       "       0.        , 0.        , 0.        , 0.        , 0.        ,\n",
       "       0.        , 0.        , 0.        , 0.        , 0.        ,\n",
       "       0.        , 0.        , 0.        , 0.        , 0.        ,\n",
       "       0.        , 0.        , 0.        , 0.        , 0.        ,\n",
       "       0.        , 0.        , 0.        , 0.        , 0.        ,\n",
       "       0.        , 0.        , 0.        , 0.        , 0.        ,\n",
       "       0.        , 0.        , 0.        , 0.        , 0.        ,\n",
       "       0.        , 0.        , 0.        , 0.        , 0.        ,\n",
       "       0.        , 0.        , 0.        , 0.        , 0.        ,\n",
       "       0.        , 0.        , 0.        , 0.        , 0.        ,\n",
       "       0.        , 0.        , 0.        , 0.        , 0.        ,\n",
       "       0.        , 0.        , 0.        , 0.        , 0.        ,\n",
       "       0.        , 0.        , 0.        , 0.        , 0.        ,\n",
       "       0.        , 0.        , 0.        , 0.        ])"
      ]
     },
     "execution_count": 137,
     "metadata": {},
     "output_type": "execute_result"
    }
   ],
   "source": [
    "m_x_train_normize[1]"
   ]
  },
  {
   "cell_type": "code",
   "execution_count": 115,
   "metadata": {},
   "outputs": [
    {
     "data": {
      "text/plain": [
       "(60000, 784)"
      ]
     },
     "execution_count": 115,
     "metadata": {},
     "output_type": "execute_result"
    }
   ],
   "source": [
    "m_x_train_normize.shape"
   ]
  },
  {
   "cell_type": "code",
   "execution_count": 111,
   "metadata": {},
   "outputs": [
    {
     "data": {
      "text/plain": [
       "(60000,)"
      ]
     },
     "execution_count": 111,
     "metadata": {},
     "output_type": "execute_result"
    }
   ],
   "source": [
    "m_t_train.shape"
   ]
  },
  {
   "cell_type": "code",
   "execution_count": 146,
   "metadata": {},
   "outputs": [],
   "source": [
    "r_t_train = m_t_train.reshape((m_t_train.shape[0],1))"
   ]
  },
  {
   "cell_type": "code",
   "execution_count": 136,
   "metadata": {},
   "outputs": [
    {
     "data": {
      "text/plain": [
       "0"
      ]
     },
     "execution_count": 136,
     "metadata": {},
     "output_type": "execute_result"
    }
   ],
   "source": [
    "r_t_train[1][0]"
   ]
  },
  {
   "cell_type": "code",
   "execution_count": 30,
   "metadata": {},
   "outputs": [
    {
     "data": {
      "text/plain": [
       "(60000, 2)"
      ]
     },
     "execution_count": 30,
     "metadata": {},
     "output_type": "execute_result"
    }
   ],
   "source": [
    "np.array(norm_train_x).shape"
   ]
  },
  {
   "cell_type": "code",
   "execution_count": 127,
   "metadata": {},
   "outputs": [],
   "source": [
    "def one_hot(i, size):\n",
    "    oh = np.zeros(size)\n",
    "    oh[i] = 1\n",
    "    return oh"
   ]
  },
  {
   "cell_type": "code",
   "execution_count": null,
   "metadata": {},
   "outputs": [],
   "source": []
  },
  {
   "cell_type": "code",
   "execution_count": 129,
   "metadata": {},
   "outputs": [
    {
     "data": {
      "text/plain": [
       "array([0., 0., 0., 0., 0., 0., 0., 0., 0., 1.])"
      ]
     },
     "execution_count": 129,
     "metadata": {},
     "output_type": "execute_result"
    }
   ],
   "source": [
    "one_hot(9, 10)"
   ]
  },
  {
   "cell_type": "code",
   "execution_count": 126,
   "metadata": {},
   "outputs": [
    {
     "data": {
      "text/plain": [
       "9"
      ]
     },
     "execution_count": 126,
     "metadata": {},
     "output_type": "execute_result"
    }
   ],
   "source": [
    "m_t_test.max()"
   ]
  },
  {
   "cell_type": "code",
   "execution_count": 171,
   "metadata": {},
   "outputs": [],
   "source": [
    "def n_one_hot(arr):\n",
    "    new_arr = np.zeros((arr.size, arr.max() + 1))\n",
    "    new_arr[np.arange(arr.size), arr] = 1\n",
    "    return new_arr"
   ]
  },
  {
   "cell_type": "code",
   "execution_count": 175,
   "metadata": {},
   "outputs": [
    {
     "data": {
      "text/plain": [
       "array([5, 0, 4, ..., 5, 6, 8], dtype=uint8)"
      ]
     },
     "execution_count": 175,
     "metadata": {},
     "output_type": "execute_result"
    }
   ],
   "source": [
    "m_t_train"
   ]
  },
  {
   "cell_type": "code",
   "execution_count": 180,
   "metadata": {},
   "outputs": [],
   "source": [
    "m_t_train_one_hot = n_one_hot(np.array(m_t_train))"
   ]
  },
  {
   "cell_type": "code",
   "execution_count": 181,
   "metadata": {},
   "outputs": [
    {
     "data": {
      "text/plain": [
       "array([0., 0., 0., 0., 0., 1., 0., 0., 0., 0.])"
      ]
     },
     "execution_count": 181,
     "metadata": {},
     "output_type": "execute_result"
    }
   ],
   "source": [
    "m_t_train_one_hot[0]"
   ]
  },
  {
   "cell_type": "code",
   "execution_count": 186,
   "metadata": {},
   "outputs": [
    {
     "name": "stdout",
     "output_type": "stream",
     "text": [
      "Done epoch : 1\n",
      "Done epoch : 2\n",
      "Done epoch : 3\n",
      "Done epoch : 4\n",
      "Done epoch : 5\n",
      "Done epoch : 6\n",
      "Done epoch : 7\n",
      "Done epoch : 8\n",
      "Done epoch : 9\n",
      "Done epoch : 10\n",
      "Done epoch : 11\n",
      "Done epoch : 12\n",
      "Done epoch : 13\n",
      "Done epoch : 14\n",
      "Done epoch : 15\n",
      "Done epoch : 16\n",
      "Done epoch : 17\n",
      "Done epoch : 18\n",
      "Done epoch : 19\n",
      "Done epoch : 20\n",
      "Done epoch : 21\n",
      "Done epoch : 22\n",
      "Done epoch : 23\n",
      "Done epoch : 24\n",
      "Done epoch : 25\n"
     ]
    },
    {
     "data": {
      "image/png": "[encoded data removed]",
      "text/plain": [
       "<Figure size 640x480 with 1 Axes>"
      ]
     },
     "metadata": {},
     "output_type": "display_data"
    }
   ],
   "source": [
    "lr = 1e-5\n",
    "\n",
    "num_of_input = 784\n",
    "size_layer_1 = 300\n",
    "size_layer_2 = 10\n",
    "\n",
    "W = np.random.randn(num_of_input, size_layer_1) \n",
    "b = np.zeros(size_layer_1)\n",
    "\n",
    "V = np.random.randn(size_layer_1, size_layer_2) \n",
    "c = np.zeros(size_layer_2)\n",
    "\n",
    "len_train =  len(m_x_train_normize)\n",
    "\n",
    "epoch = 5\n",
    "losses = []\n",
    "\n",
    "for e in range(epoch):\n",
    "    a_dW = np.zeros((num_of_input, size_layer_1))\n",
    "    a_dV = np.zeros((size_layer_1, size_layer_2))\n",
    "    a_db = np.zeros(size_layer_1)\n",
    "    a_dc = np.zeros(size_layer_2)\n",
    "    \n",
    "    loss = []\n",
    "    \n",
    "    for i in range(len_train):\n",
    "        \n",
    "        t = m_t_train_one_hot[i]\n",
    "        x = m_x_train_normize[i]\n",
    "        \n",
    "        k = lin(x, W, b)\n",
    "        h = n_sigmoid(k)\n",
    "        o = lin(h, V, c)\n",
    "        y = n_softmax(o)\n",
    "        \n",
    "        l = n_cross_entropy(y, t)\n",
    "        loss.append(l)\n",
    "        \n",
    "        do = y - t\n",
    "        dV, dh, dc = lin_grad(h, do, V)\n",
    "        dk = dh * n_d_sigmoid(k)\n",
    "        dW, dx, db = lin_grad(x, dk, W)\n",
    "        \n",
    "        # accumulate gradients\n",
    "        a_dW += dW\n",
    "        a_dV += dV\n",
    "        a_db += db\n",
    "        a_dc += dc\n",
    "    \n",
    "    # sgd\n",
    "    W = W + -lr * a_dW\n",
    "    b = b + -lr * a_db\n",
    "    V = V + -lr * a_dV\n",
    "    c = c + -lr * a_dc\n",
    "    \n",
    "    losses.append(np.mean(loss))\n",
    "    \n",
    "    print(f'Done epoch : {e+1}')\n",
    "    \n",
    "    \n",
    "plot_losses(losses)"
   ]
  },
  {
   "cell_type": "code",
   "execution_count": 82,
   "metadata": {},
   "outputs": [],
   "source": [
    "x = np.array([[1,2,3,4], [1,1,2,2]])\n",
    "x = x - x.min() / x.max() - x.min()"
   ]
  },
  {
   "cell_type": "code",
   "execution_count": 187,
   "metadata": {},
   "outputs": [
    {
     "name": "stdout",
     "output_type": "stream",
     "text": [
      "Accuracy: 73.36%\n"
     ]
    }
   ],
   "source": [
    "# prev : Accuracy: 62.53999999999999%\n",
    "# m_x_test, m_t_test\n",
    "r_t_test = m_t_test.reshape((m_t_test.shape[0], 1))\n",
    "m_x_test_normize = n_normalize(m_x_test, ma, mi)\n",
    "\n",
    "len_test =  len(m_x_test_normize)\n",
    "correct = 0\n",
    "\n",
    "for i in range(len_test):\n",
    "    t = one_hot(r_t_test[i][0], 10)\n",
    "    x = m_x_test_normize[i]\n",
    "\n",
    "    k = lin(x, W, b)\n",
    "    h = n_sigmoid(k)\n",
    "    o = lin(h, V, c)\n",
    "    y = n_softmax(o)\n",
    "    \n",
    "    if y.argmax() == t.argmax():\n",
    "        correct += 1\n",
    "\n",
    "print(f'Accuracy: {(correct/len_test) * 100}%')"
   ]
  },
  {
   "cell_type": "code",
   "execution_count": 159,
   "metadata": {},
   "outputs": [
    {
     "data": {
      "text/plain": [
       "(10000, 784)"
      ]
     },
     "execution_count": 159,
     "metadata": {},
     "output_type": "execute_result"
    }
   ],
   "source": [
    "m_x_test_normize.shape"
   ]
  },
  {
   "cell_type": "code",
   "execution_count": 189,
   "metadata": {},
   "outputs": [
    {
     "name": "stdout",
     "output_type": "stream",
     "text": [
      "1 : 23.41892834445657\n",
      "2 : 15.26481259557831\n",
      "3 : 11.499017721377468\n",
      "4 : 9.168744948511744\n",
      "5 : 7.657981550886265\n",
      "6 : 6.387708364200997\n",
      "7 : 5.766637120398863\n",
      "8 : 5.203074036361378\n",
      "9 : 4.793977704103455\n",
      "10 : 4.444615386950347\n",
      "11 : 4.155789929157928\n",
      "12 : 3.898710559198028\n",
      "13 : 3.6823255820888305\n",
      "14 : 3.480773736457431\n",
      "15 : 3.3117539926467168\n",
      "16 : 3.150764914343692\n",
      "17 : 3.013151528173476\n",
      "18 : 2.883631554310251\n",
      "19 : 2.767804765481984\n",
      "20 : 2.662440481313806\n",
      "21 : 2.563764212463361\n",
      "22 : 2.4768739508283737\n",
      "23 : 2.393438768915411\n",
      "24 : 2.3208459983878935\n",
      "25 : 2.2510615014429196\n",
      "26 : 2.189950033568405\n",
      "27 : 2.131773715502014\n",
      "28 : 2.080041504141709\n",
      "29 : 2.0312608410390007\n",
      "30 : 1.9871119860020812\n",
      "31 : 1.9456841623052794\n",
      "32 : 1.907566316002259\n",
      "33 : 1.871795893960282\n",
      "34 : 1.8384397087535707\n",
      "35 : 1.8070236219932145\n",
      "36 : 1.7774362129729544\n",
      "37 : 1.7494274199230784\n",
      "38 : 1.722863607141537\n",
      "39 : 1.697595398279068\n",
      "40 : 1.6735127001979972\n",
      "41 : 1.650514881974411\n",
      "42 : 1.6285177632982513\n",
      "43 : 1.6074471601603113\n",
      "44 : 1.587237799636143\n",
      "45 : 1.5678315827856244\n",
      "46 : 1.5491762105612372\n",
      "47 : 1.5312244423776007\n",
      "48 : 1.5139332406189197\n",
      "49 : 1.497263314618663\n",
      "50 : 1.4811786036609618\n"
     ]
    }
   ],
   "source": [
    "for i in range(len(losses)):\n",
    "    print(f'{i+1} : {losses[i]}')"
   ]
  },
  {
   "cell_type": "code",
   "execution_count": 191,
   "metadata": {},
   "outputs": [
    {
     "data": {
      "image/png": "[encoded data removed]",
      "text/plain": [
       "<Figure size 640x480 with 1 Axes>"
      ]
     },
     "metadata": {},
     "output_type": "display_data"
    }
   ],
   "source": [
    "plot_losses(losses)"
   ]
  },
  {
   "cell_type": "code",
   "execution_count": 198,
   "metadata": {},
   "outputs": [
    {
     "name": "stderr",
     "output_type": "stream",
     "text": [
      "/var/folders/g0/hpf9tcbs1rvg96xzgbm2_9p40000gn/T/ipykernel_66906/2771041298.py:1: RuntimeWarning: divide by zero encountered in log\n",
      "  np.sum(np.array([np.log(0), np.log(0.1)]))\n"
     ]
    },
    {
     "data": {
      "text/plain": [
       "-inf"
      ]
     },
     "execution_count": 198,
     "metadata": {},
     "output_type": "execute_result"
    }
   ],
   "source": [
    "np.sum(np.array([np.log(0), np.log(0.1)]))"
   ]
  },
  {
   "cell_type": "code",
   "execution_count": null,
   "metadata": {},
   "outputs": [],
   "source": [
    "# split training set to training & validation\n",
    "# np.random.seed(0)\n",
    "# validation_ratio = 0.2\n",
    "\n",
    "# num_validation_samples = int(validation_ratio * x_train.shape[0])\n",
    "\n",
    "# indices = np.arange(x_train.shape[0])\n",
    "# np.random.shuffle(indices)\n",
    "\n",
    "# # training set\n",
    "# m_x_train = x_train[indices[num_validation_samples:]]\n",
    "# m_t_train = t_train[indices[num_validation_samples:]]\n",
    "\n",
    "# # validation set\n",
    "# m_x_val = x_train[indices[:num_validation_samples]]\n",
    "# m_t_val = t_train[indices[:num_validation_samples]]"
   ]
  },
  {
   "cell_type": "code",
   "execution_count": null,
   "metadata": {},
   "outputs": [],
   "source": [
    "import numpy as np\n",
    "import matplotlib.pyplot as plt\n",
    "\n",
    "# Sample data for 'losses' (replace this with your actual data)\n",
    "losses = [16.55447129, 11.92144349,  9.42792768,  7.77098417,  6.71618185]\n",
    "\n",
    "ls = np.array(losses)\n",
    "mean = np.mean(ls)\n",
    "std_d = np.std(ls)\n",
    "t = np.arange(len(ls))  # Use np.arange to create an array of indices\n",
    "\n",
    "lower_bound = mean - std_d * np.sqrt(t)\n",
    "upper_bound = mean + std_d * np.sqrt(t)\n",
    "\n",
    "fig, ax = plt.subplots(1)\n",
    "ax.plot(t, ls, lw=2, label='actual loss', color='blue')\n",
    "ax.plot(t, mean * np.ones_like(t), lw=1, label='mean', color='black', ls='--')\n",
    "ax.fill_between(t, lower_bound, upper_bound, facecolor='yellow', alpha=0.5, label='std range')\n",
    "\n",
    "# Use 'where' argument to fill the region where the losses are above the upper_bound\n",
    "ax.fill_between(t, upper_bound, ls, where=ls > upper_bound, facecolor='blue', alpha=0.5)\n",
    "\n",
    "ax.set_xlabel('epochs')\n",
    "ax.set_ylabel('loss')\n",
    "ax.grid()\n",
    "ax.legend(loc='upper left')\n",
    "plt.show()\n",
    "\n",
    "fig, ax = plt.subplots(1)\n",
    "ax.plot(t, ls, lw=2, label='actual loss', color='blue')\n",
    "ax.plot(t, mean * np.ones_like(t), lw=1, label='mean', color='black', ls='--')\n",
    "ax.fill_between(t, lower_bound, upper_bound, facecolor='yellow', alpha=0.5, label='std range')\n",
    "\n",
    "# Use 'where' argument to fill the region where the losses are above the upper_bound\n",
    "ax.fill_between(t, upper_bound, ls, where=ls > upper_bound, facecolor='blue', alpha=0.5)\n",
    "\n",
    "ax.set_xlabel('epochs')\n",
    "ax.set_ylabel('loss')\n",
    "ax.grid()\n",
    "ax.legend(loc='upper left')\n",
    "plt.show()"
   ]
  },
  {
   "cell_type": "code",
   "execution_count": 2,
   "metadata": {},
   "outputs": [
    {
     "data": {
      "image/png": "[encoded data removed]",
      "text/plain": [
       "<Figure size 640x480 with 1 Axes>"
      ]
     },
     "metadata": {},
     "output_type": "display_data"
    }
   ],
   "source": [
    "ls = np.array(losses)\n",
    "mean = np.mean(ls)\n",
    "std_d = np.array([1, 2,  0.5,  0.2,  0.1])\n",
    "t = np.arange(len(ls))  # Use np.arange to create an array of indices\n",
    "\n",
    "lower_bound = mean - std_d * np.sqrt(t)\n",
    "upper_bound = mean + std_d * np.sqrt(t)\n",
    "\n",
    "fig, ax = plt.subplots(1)\n",
    "ax.plot(t, ls, lw=2, label='actual loss', color='blue')\n",
    "ax.plot(t, mean * np.ones_like(t), lw=1, label='mean', color='black', ls='--')\n",
    "ax.fill_between(t, lower_bound, upper_bound, facecolor='yellow', alpha=0.5, label='std range')\n",
    "\n",
    "# Use 'where' argument to fill the region where the losses are above the upper_bound\n",
    "ax.fill_between(t, upper_bound, ls, where=ls > upper_bound, facecolor='blue', alpha=0.5)\n",
    "\n",
    "ax.set_xlabel('epochs')\n",
    "ax.set_ylabel('loss')\n",
    "ax.grid()\n",
    "ax.legend(loc='upper left')\n",
    "plt.show()import numpy as np\n",
    "import matplotlib.pyplot as plt\n",
    "\n",
    "# Sample data for 'losses' (replace this with your actual data)\n",
    "losses = [16.55447129, 11.92144349,  9.42792768,  7.77098417,  6.71618185]\n",
    "\n"
   ]
  },
  {
   "cell_type": "code",
   "execution_count": 3,
   "metadata": {},
   "outputs": [
    {
     "data": {
      "text/plain": [
       "((2, 2, 4), (2, 4, 2))"
      ]
     },
     "execution_count": 3,
     "metadata": {},
     "output_type": "execute_result"
    }
   ],
   "source": [
    "a = np.arange(2 * 2 * 4).reshape((2, 2, 4))\n",
    "b = np.arange(2 * 2 * 4).reshape((2, 4, 2))\n",
    "a.shape, b.shape\n"
   ]
  },
  {
   "cell_type": "code",
   "execution_count": 4,
   "metadata": {},
   "outputs": [
    {
     "data": {
      "text/plain": [
       "(array([[[ 0,  1,  2,  3],\n",
       "         [ 4,  5,  6,  7]],\n",
       " \n",
       "        [[ 8,  9, 10, 11],\n",
       "         [12, 13, 14, 15]]]),\n",
       " array([[[ 0,  1],\n",
       "         [ 2,  3],\n",
       "         [ 4,  5],\n",
       "         [ 6,  7]],\n",
       " \n",
       "        [[ 8,  9],\n",
       "         [10, 11],\n",
       "         [12, 13],\n",
       "         [14, 15]]]))"
      ]
     },
     "execution_count": 4,
     "metadata": {},
     "output_type": "execute_result"
    }
   ],
   "source": [
    "a, b"
   ]
  },
  {
   "cell_type": "code",
   "execution_count": 5,
   "metadata": {},
   "outputs": [
    {
     "data": {
      "text/plain": [
       "(2, 2, 2)"
      ]
     },
     "execution_count": 5,
     "metadata": {},
     "output_type": "execute_result"
    }
   ],
   "source": [
    "np.matmul(a,b).shape"
   ]
  },
  {
   "cell_type": "code",
   "execution_count": 8,
   "metadata": {},
   "outputs": [],
   "source": [
    "from data import load_synth\n",
    "(x_train, t_train), (x_val, t_val), num_cls = load_synth()"
   ]
  },
  {
   "cell_type": "code",
   "execution_count": 6,
   "metadata": {},
   "outputs": [],
   "source": [
    "def lin(input, weight, bias):\n",
    "    return np.dot(input, weight) + bias"
   ]
  },
  {
   "cell_type": "code",
   "execution_count": 19,
   "metadata": {},
   "outputs": [
    {
     "data": {
      "text/plain": [
       "array([[ 1.76405235,  0.40015721],\n",
       "       [ 0.97873798,  2.2408932 ],\n",
       "       [ 1.86755799, -0.97727788],\n",
       "       [ 0.95008842, -0.15135721],\n",
       "       [-0.10321885,  0.4105985 ]])"
      ]
     },
     "execution_count": 19,
     "metadata": {},
     "output_type": "execute_result"
    }
   ],
   "source": [
    "t = x_train[:5]\n",
    "t"
   ]
  },
  {
   "cell_type": "code",
   "execution_count": 22,
   "metadata": {},
   "outputs": [
    {
     "data": {
      "text/plain": [
       "array([[1.76405235, 0.40015721],\n",
       "       [0.97873798, 2.2408932 ]])"
      ]
     },
     "execution_count": 22,
     "metadata": {},
     "output_type": "execute_result"
    }
   ],
   "source": [
    "# batch\n",
    "batch = 2\n",
    "# lin\n",
    "# in for loop\n",
    "i = 0\n",
    "b = t[i:batch]\n",
    "i += batch\n",
    "\n",
    "b\n"
   ]
  },
  {
   "cell_type": "code",
   "execution_count": 44,
   "metadata": {},
   "outputs": [],
   "source": [
    "def n_one_hot(arr):\n",
    "    new_arr = np.zeros((arr.size, arr.max() + 1))\n",
    "    new_arr[np.arange(arr.size), arr] = 1\n",
    "    return new_arr\n",
    "\n",
    "def n_normalize(v, ma, mi): \n",
    "    norm = (v - mi) / (ma - mi)\n",
    "    return norm\n",
    "\n",
    "ma = x_train.max()\n",
    "mi = x_train.min()\n",
    "x_train_normize = n_normalize(x_train, ma, mi)\n",
    "t_train_one_hot = n_one_hot(np.array(t_train))"
   ]
  },
  {
   "cell_type": "code",
   "execution_count": 193,
   "metadata": {},
   "outputs": [],
   "source": [
    "# If you are considering each array within your batch as a separate input, \n",
    "# then you'll need to apply softmax across axis 1 (columns).\n",
    "# axis=1 ensures that the softmax is applied to each row \n",
    "# (i.e., each set of inputs in your batch) independently.\n",
    "# keepdims=True keeps the output shape compatible with the input shape, \n",
    "# which is important for maintaining the structure of your data, especially \n",
    "# when dealing with batches.\n",
    "def n_batch_softmax(x):\n",
    "    # print('batch soft: ', x)\n",
    "    e_x = np.exp(x - np.max(x, axis=1, keepdims=True))\n",
    "    return e_x / e_x.sum(axis=1, keepdims=True)"
   ]
  },
  {
   "cell_type": "code",
   "execution_count": 71,
   "metadata": {},
   "outputs": [
    {
     "name": "stdout",
     "output_type": "stream",
     "text": [
      "batch soft:  [[-0.88079708 -0.88079708]\n",
      " [-0.88079708 -0.88079708]]\n"
     ]
    },
    {
     "data": {
      "text/plain": [
       "array([[0.5, 0.5],\n",
       "       [0.5, 0.5]])"
      ]
     },
     "execution_count": 71,
     "metadata": {},
     "output_type": "execute_result"
    }
   ],
   "source": [
    "testing = np.array([[-0.88079708, -0.88079708],[-0.88079708, -0.88079708]])\n",
    "n_batch_softmax(testing)"
   ]
  },
  {
   "cell_type": "code",
   "execution_count": null,
   "metadata": {},
   "outputs": [],
   "source": []
  },
  {
   "cell_type": "code",
   "execution_count": 204,
   "metadata": {},
   "outputs": [],
   "source": [
    "def n_batch_cross_entropy(predictions, targets):\n",
    "    \n",
    "    log_pred = np.log(predictions)\n",
    "    # print(f'LOG PRED: {log_pred}')\n",
    "    reshaped_p = log_pred[np.newaxis, :]\n",
    "    reshaped_t = targets[:,np.newaxis]\n",
    "    print('BATCH CE', reshaped_p.shape, reshaped_t.shape)\n",
    "    return -(np.matmul(reshaped_t, reshaped_p[:,None]).squeeze(-1).sum(axis=0))"
   ]
  },
  {
   "cell_type": "code",
   "execution_count": 128,
   "metadata": {},
   "outputs": [
    {
     "name": "stdout",
     "output_type": "stream",
     "text": [
      "BATCH CE [[0.5 0.5]\n",
      " [0.5 0.5]] [[ 1 -1]\n",
      " [ 1 -1]]\n",
      "LOG PRED: [[-0.69314718 -0.69314718]\n",
      " [-0.69314718 -0.69314718]]\n"
     ]
    },
    {
     "data": {
      "text/plain": [
       "array([[-0.],\n",
       "       [-0.]])"
      ]
     },
     "execution_count": 128,
     "metadata": {},
     "output_type": "execute_result"
    }
   ],
   "source": [
    "p = np.array(\n",
    "    [[0.5, 0.5],\n",
    " [0.5, 0.5]]\n",
    ")\n",
    "t = np.array(\n",
    "    [[ 1, -1],\n",
    " [ 1, -1]]\n",
    ")\n",
    "n_batch_cross_entropy(p, t)"
   ]
  },
  {
   "cell_type": "code",
   "execution_count": 191,
   "metadata": {},
   "outputs": [],
   "source": [
    "def batch_lin_grad(lin_input, output_grad, weights):\n",
    "    dW = np.matmul(lin_input[:, :, np.newaxis], output_grad[:, np.newaxis, :]).sum(axis=0)\n",
    "\n",
    "    dx = np.matmul(output_grad, weights.T).sum(axis=0)\n",
    "    db = output_grad.sum(axis=0)\n",
    "    return dW, dx, db\n",
    "\n",
    "\n",
    "    # print(weights.ndim)\n",
    "    # t_weights = weights.T if weights.ndim == 2 else weights\n",
    "    # if weights.shape[0] == lin_input.shape[1]:  # Case where weights are (num_features, num_outputs)\n",
    "    #     reshaped_weights = weights.T\n",
    "    # elif weights.shape[1] == lin_input.shape[1]:  # Case where weights are (num_outputs, num_features)\n",
    "    #     reshaped_weights = weights\n",
    "        \n",
    "# dx = (output_grad[None, :] * weights.T).sum(axis=1, keepdims=True)\n",
    "# print('batching...', lin_input, output_grad, weights)\n",
    "    # print('DW', dW)\n",
    "# if weights.ndim == 2:\n",
    "#     weights = weights[:, np.newaxis, :]\n",
    "\n",
    "# if weights.ndim == 2:\n",
    "#     reshaped_weights = weights.T\n",
    "# dx = np.matmul(output_grad, weights, axis=1, keepdims=True)\n",
    "\n",
    "# dx = np.matmul(output_grad[:, :, np.newaxis], weights).sum(axis=1)\n",
    "# print('dW shape: ', dW)\n",
    "\n",
    "# print(output_grad.shape, weights.shape)"
   ]
  },
  {
   "cell_type": "code",
   "execution_count": 184,
   "metadata": {},
   "outputs": [],
   "source": [
    "weights = np.array(\n",
    "    [[ 1.,  1.],\n",
    " [-1., -1.],\n",
    " [-1., -1.]]\n",
    ")\n",
    "\n",
    "# weights = np.array(\n",
    "#     [[1.0, 1.0, 1.0], [-1.0, -1.0, -1.0]]\n",
    "# )\n",
    "# weights.ndim"
   ]
  },
  {
   "cell_type": "code",
   "execution_count": 185,
   "metadata": {},
   "outputs": [
    {
     "name": "stdout",
     "output_type": "stream",
     "text": [
      "2\n"
     ]
    },
    {
     "data": {
      "text/plain": [
       "(array([[ 0.88079708, -0.88079708],\n",
       "        [ 0.88079708, -0.88079708],\n",
       "        [ 0.88079708, -0.88079708]]),\n",
       " array([0., 0., 0.]),\n",
       " array([ 1., -1.]))"
      ]
     },
     "execution_count": 185,
     "metadata": {},
     "output_type": "execute_result"
    }
   ],
   "source": [
    "lin_input = np.array(\n",
    "    [[0.88079708, 0.88079708, 0.88079708],\n",
    " [0.88079708, 0.88079708, 0.88079708]]\n",
    ")\n",
    "output_grad = np.array(\n",
    "    [[ 0.5, -0.5],\n",
    " [ 0.5, -0.5]]\n",
    ")\n",
    "\n",
    "\n",
    "\n",
    "batch_lin_grad(lin_input, output_grad, weights)\n",
    "\n",
    "# [[0.88079708 0.88079708 0.88079708]\n",
    "#  [0.88079708 0.88079708 0.88079708]] [[ 0.5 -0.5]\n",
    "#  [ 0.5 -0.5]] [[ 1.  1.]\n",
    "#  [-1. -1.]\n",
    "#  [-1. -1.]]\n",
    "\n",
    "# # lin_input.reshape(lin_input.shape[0], 1)\n",
    "# # print(lin_input.shape)\n",
    "# # print(output_grad.shape)\n",
    "# # lin_input.reshape(lin_input.shape[1], 1).shape # output_grad.shape\n",
    "# lin_input[:, np.newaxis].shape\n",
    "# output_grad[:,:,np.newaxis].shape\n",
    "# print(lin_input.shape, output_grad.shape)\n",
    "# print(lin_input[:, np.newaxis].shape, output_grad[:,:,np.newaxis].shape)\n",
    "# # lin_input.shape[1]\n",
    "# # dW = np.matmul(lin_input.reshape(lin_input.shape[0], 1), output_grad.reshape(1, output_grad.shape[0]))\n",
    "# dW = np.matmul(lin_input[:,:,np.newaxis], output_grad[:, np.newaxis])\n",
    "# print(dW)\n",
    "# dW.shape"
   ]
  },
  {
   "cell_type": "code",
   "execution_count": 205,
   "metadata": {},
   "outputs": [
    {
     "name": "stdout",
     "output_type": "stream",
     "text": [
      "X: [[ 1 -1]\n",
      " [ 1 -1]]\n",
      "T: [[1 0]\n",
      " [1 0]]\n",
      "K: [[2. 2. 2.]\n",
      " [2. 2. 2.]]\n",
      "H: [[0.88079708 0.88079708 0.88079708]\n",
      " [0.88079708 0.88079708 0.88079708]]\n",
      "O: [[-0.88079708 -0.88079708]\n",
      " [-0.88079708 -0.88079708]]\n",
      "Y: [[0.5 0.5]\n",
      " [0.5 0.5]]\n",
      "BATCH CE (1, 2, 2) (2, 1, 2)\n"
     ]
    },
    {
     "ename": "ValueError",
     "evalue": "cannot select an axis to squeeze out which has size not equal to one",
     "output_type": "error",
     "traceback": [
      "\u001b[0;31m---------------------------------------------------------------------------\u001b[0m",
      "\u001b[0;31mValueError\u001b[0m                                Traceback (most recent call last)",
      "\u001b[1;32m/Users/chrispickett/Desktop/DL/Ass1_tensor.ipynb Cell 61\u001b[0m line \u001b[0;36m8\n\u001b[1;32m     <a href='vscode-notebook-cell:/Users/chrispickett/Desktop/DL/Ass1_tensor.ipynb#Y102sZmlsZQ%3D%3D?line=77'>78</a>\u001b[0m y \u001b[39m=\u001b[39m n_batch_softmax(o)\n\u001b[1;32m     <a href='vscode-notebook-cell:/Users/chrispickett/Desktop/DL/Ass1_tensor.ipynb#Y102sZmlsZQ%3D%3D?line=78'>79</a>\u001b[0m \u001b[39mif\u001b[39;00m logs : \u001b[39mprint\u001b[39m(\u001b[39mf\u001b[39m\u001b[39m'\u001b[39m\u001b[39mY: \u001b[39m\u001b[39m{\u001b[39;00my\u001b[39m}\u001b[39;00m\u001b[39m'\u001b[39m)\n\u001b[0;32m---> <a href='vscode-notebook-cell:/Users/chrispickett/Desktop/DL/Ass1_tensor.ipynb#Y102sZmlsZQ%3D%3D?line=80'>81</a>\u001b[0m l \u001b[39m=\u001b[39m n_batch_cross_entropy(y, t_batch)\n\u001b[1;32m     <a href='vscode-notebook-cell:/Users/chrispickett/Desktop/DL/Ass1_tensor.ipynb#Y102sZmlsZQ%3D%3D?line=81'>82</a>\u001b[0m \u001b[39mif\u001b[39;00m logs : \u001b[39mprint\u001b[39m(\u001b[39mf\u001b[39m\u001b[39m'\u001b[39m\u001b[39mL: \u001b[39m\u001b[39m{\u001b[39;00ml\u001b[39m}\u001b[39;00m\u001b[39m'\u001b[39m)\n\u001b[1;32m     <a href='vscode-notebook-cell:/Users/chrispickett/Desktop/DL/Ass1_tensor.ipynb#Y102sZmlsZQ%3D%3D?line=82'>83</a>\u001b[0m loss\u001b[39m.\u001b[39mappend(l)\n",
      "\u001b[1;32m/Users/chrispickett/Desktop/DL/Ass1_tensor.ipynb Cell 61\u001b[0m line \u001b[0;36m8\n\u001b[1;32m      <a href='vscode-notebook-cell:/Users/chrispickett/Desktop/DL/Ass1_tensor.ipynb#Y102sZmlsZQ%3D%3D?line=5'>6</a>\u001b[0m reshaped_t \u001b[39m=\u001b[39m targets[:,np\u001b[39m.\u001b[39mnewaxis]\n\u001b[1;32m      <a href='vscode-notebook-cell:/Users/chrispickett/Desktop/DL/Ass1_tensor.ipynb#Y102sZmlsZQ%3D%3D?line=6'>7</a>\u001b[0m \u001b[39mprint\u001b[39m(\u001b[39m'\u001b[39m\u001b[39mBATCH CE\u001b[39m\u001b[39m'\u001b[39m, reshaped_p\u001b[39m.\u001b[39mshape, reshaped_t\u001b[39m.\u001b[39mshape)\n\u001b[0;32m----> <a href='vscode-notebook-cell:/Users/chrispickett/Desktop/DL/Ass1_tensor.ipynb#Y102sZmlsZQ%3D%3D?line=7'>8</a>\u001b[0m \u001b[39mreturn\u001b[39;00m \u001b[39m-\u001b[39m(np\u001b[39m.\u001b[39;49mmatmul(reshaped_t, reshaped_p[:,\u001b[39mNone\u001b[39;49;00m])\u001b[39m.\u001b[39;49msqueeze(\u001b[39m-\u001b[39;49m\u001b[39m1\u001b[39;49m)\u001b[39m.\u001b[39msum(axis\u001b[39m=\u001b[39m\u001b[39m0\u001b[39m))\n",
      "\u001b[0;31mValueError\u001b[0m: cannot select an axis to squeeze out which has size not equal to one"
     ]
    }
   ],
   "source": [
    "lr = 1e-5\n",
    "\n",
    "num_of_input = 2\n",
    "size_layer_1 = 3\n",
    "size_layer_2 = 2\n",
    "\n",
    "W = np.array([[1.0, 1.0, 1.0], [-1.0, -1.0, -1.0]]) # np.random.randn(num_of_input, size_layer_1) \n",
    "b = np.zeros(size_layer_1)\n",
    "\n",
    "V = np.array([[1.0, 1.0], [-1.0, -1.0], [-1.0, -1.0]]) # np.random.randn(size_layer_1, size_layer_2) \n",
    "c = np.zeros(size_layer_2)\n",
    "\n",
    "# t_train_one_hot = one_hot(t_train)\n",
    "# t_val_one_hot = one_hot(t_val)\n",
    "\n",
    "# ma = x_train.max()\n",
    "# mi = x_train.min()\n",
    "# x_train_normize = normalize(x_train, ma, mi)\n",
    "\n",
    "# r_t_val = t_val.reshape((t_val.shape[0], 1))\n",
    "# x_val_normize = normalize(x_val, ma, mi)\n",
    "\n",
    "len_train = 1 # len(norm_train_x)\n",
    "\n",
    "epoch = 1\n",
    "losses = []\n",
    "batch_size = 2\n",
    "\n",
    "logs = True\n",
    "\n",
    "x_dumby = np.array([\n",
    "    [1, -1],\n",
    "    [1, -1],\n",
    "    [1, -1],\n",
    "    [1, -1],\n",
    "])\n",
    "\n",
    "t_dumby = np.array([\n",
    "    [1, 0],\n",
    "    [1, 0],\n",
    "    [1, 0],\n",
    "    [1, 0],\n",
    "])\n",
    "for e in range(epoch):\n",
    "    a_dW = np.zeros((num_of_input, size_layer_1))\n",
    "    a_dV = np.zeros((size_layer_1, size_layer_2))\n",
    "    a_db = np.zeros(size_layer_1)\n",
    "    a_dc = np.zeros(size_layer_2)\n",
    "    \n",
    "    loss = []\n",
    "    \n",
    "    for i in range(0, len_train, batch_size):\n",
    "        # # in1, in2 = norm_train_x[i:i+batch_size]\n",
    "        # batch = norm_train_x[i:i+batch_size]\n",
    "        # print(f'BATCH: {batch}')\n",
    "        # out = 0 if norm_train_y[i] == 1 else 1 \n",
    "        # t = np.array(target_arr(num_cls, out))\n",
    "        # # x = np.array([in1, in2])\n",
    "        # x = batch\n",
    "        \n",
    "        # t = t_train_one_hot[i]\n",
    "        # t_batch = t_train_one_hot[i:i+batch_size]\n",
    "        t_batch = t_dumby[i:i+batch_size]\n",
    "        # x = x_train_normize[i]\n",
    "        # x_batch = x_train_normize[i:i+batch_size]\n",
    "        x_batch = x_dumby[i:i+batch_size]\n",
    "        \n",
    "        if logs : print(f'X: {x_batch}')\n",
    "        if logs : print(f'T: {t_batch}')\n",
    "        \n",
    "        k = lin(x_batch, W, b)\n",
    "        if logs : print(f'K: {k}')\n",
    "        h = n_sigmoid(k)\n",
    "        if logs : print(f'H: {h}')\n",
    "        o = lin(h, V, c)\n",
    "        if logs : print(f'O: {o}')\n",
    "        \n",
    "        y = n_batch_softmax(o)\n",
    "        if logs : print(f'Y: {y}')\n",
    "        \n",
    "        l = n_batch_cross_entropy(y, t_batch)\n",
    "        if logs : print(f'L: {l}')\n",
    "        loss.append(l)\n",
    "        \n",
    "        do = y - t_batch\n",
    "        if logs : print(f'do: {do}')\n",
    "        \n",
    "        dV, dh, dc = batch_lin_grad(h, do, V)\n",
    "        if logs : print(f'dV: {dV}')\n",
    "        if logs : print(f'dh: {dh}')\n",
    "        if logs : print(f'dc: {dc}')\n",
    "        dk = dh * n_d_sigmoid(k)\n",
    "        if logs : print(f'dk: {dk}')\n",
    "        dW, dx, db = batch_lin_grad(x_batch, dk, W)\n",
    "        if logs : print(f'dW: {dW}')\n",
    "        if logs : print(f'dx: {dx}')\n",
    "        if logs : print(f'db: {db}')\n",
    "        \n",
    "        # accumulate gradients\n",
    "        a_dW += dW\n",
    "        a_dV += dV\n",
    "        a_db += db\n",
    "        a_dc += dc\n",
    "    \n",
    "    # sgd\n",
    "    W = W + -lr * a_dW\n",
    "    b = b + -lr * a_db\n",
    "    V = V + -lr * a_dV\n",
    "    c = c + -lr * a_dc\n",
    "    \n",
    "    losses.append(np.mean(loss))\n",
    "    \n",
    "    print(f'Done epoch : {e+1}')\n",
    "    \n",
    "    \n",
    "plot_losses(losses)"
   ]
  },
  {
   "cell_type": "code",
   "execution_count": 206,
   "metadata": {},
   "outputs": [
    {
     "name": "stdout",
     "output_type": "stream",
     "text": [
      "BATCH CE (1, 64, 2) (64, 1, 2)\n"
     ]
    },
    {
     "ename": "ValueError",
     "evalue": "matmul: Input operand 1 has a mismatch in its core dimension 0, with gufunc signature (n?,k),(k,m?)->(n?,m?) (size 64 is different from 2)",
     "output_type": "error",
     "traceback": [
      "\u001b[0;31m---------------------------------------------------------------------------\u001b[0m",
      "\u001b[0;31mValueError\u001b[0m                                Traceback (most recent call last)",
      "\u001b[1;32m/Users/chrispickett/Desktop/DL/Ass1_tensor.ipynb Cell 62\u001b[0m line \u001b[0;36m8\n\u001b[1;32m     <a href='vscode-notebook-cell:/Users/chrispickett/Desktop/DL/Ass1_tensor.ipynb#Y115sZmlsZQ%3D%3D?line=77'>78</a>\u001b[0m y \u001b[39m=\u001b[39m n_batch_softmax(o)\n\u001b[1;32m     <a href='vscode-notebook-cell:/Users/chrispickett/Desktop/DL/Ass1_tensor.ipynb#Y115sZmlsZQ%3D%3D?line=78'>79</a>\u001b[0m \u001b[39mif\u001b[39;00m logs : \u001b[39mprint\u001b[39m(\u001b[39mf\u001b[39m\u001b[39m'\u001b[39m\u001b[39mY: \u001b[39m\u001b[39m{\u001b[39;00my\u001b[39m}\u001b[39;00m\u001b[39m'\u001b[39m)\n\u001b[0;32m---> <a href='vscode-notebook-cell:/Users/chrispickett/Desktop/DL/Ass1_tensor.ipynb#Y115sZmlsZQ%3D%3D?line=80'>81</a>\u001b[0m l \u001b[39m=\u001b[39m n_batch_cross_entropy(y, t_batch)\n\u001b[1;32m     <a href='vscode-notebook-cell:/Users/chrispickett/Desktop/DL/Ass1_tensor.ipynb#Y115sZmlsZQ%3D%3D?line=81'>82</a>\u001b[0m \u001b[39mif\u001b[39;00m logs : \u001b[39mprint\u001b[39m(\u001b[39mf\u001b[39m\u001b[39m'\u001b[39m\u001b[39mL: \u001b[39m\u001b[39m{\u001b[39;00ml\u001b[39m}\u001b[39;00m\u001b[39m'\u001b[39m)\n\u001b[1;32m     <a href='vscode-notebook-cell:/Users/chrispickett/Desktop/DL/Ass1_tensor.ipynb#Y115sZmlsZQ%3D%3D?line=82'>83</a>\u001b[0m loss\u001b[39m.\u001b[39mappend(l)\n",
      "\u001b[1;32m/Users/chrispickett/Desktop/DL/Ass1_tensor.ipynb Cell 62\u001b[0m line \u001b[0;36m8\n\u001b[1;32m      <a href='vscode-notebook-cell:/Users/chrispickett/Desktop/DL/Ass1_tensor.ipynb#Y115sZmlsZQ%3D%3D?line=5'>6</a>\u001b[0m reshaped_t \u001b[39m=\u001b[39m targets[:,np\u001b[39m.\u001b[39mnewaxis]\n\u001b[1;32m      <a href='vscode-notebook-cell:/Users/chrispickett/Desktop/DL/Ass1_tensor.ipynb#Y115sZmlsZQ%3D%3D?line=6'>7</a>\u001b[0m \u001b[39mprint\u001b[39m(\u001b[39m'\u001b[39m\u001b[39mBATCH CE\u001b[39m\u001b[39m'\u001b[39m, reshaped_p\u001b[39m.\u001b[39mshape, reshaped_t\u001b[39m.\u001b[39mshape)\n\u001b[0;32m----> <a href='vscode-notebook-cell:/Users/chrispickett/Desktop/DL/Ass1_tensor.ipynb#Y115sZmlsZQ%3D%3D?line=7'>8</a>\u001b[0m \u001b[39mreturn\u001b[39;00m \u001b[39m-\u001b[39m(np\u001b[39m.\u001b[39;49mmatmul(reshaped_t, reshaped_p[:,\u001b[39mNone\u001b[39;49;00m])\u001b[39m.\u001b[39msqueeze(\u001b[39m-\u001b[39m\u001b[39m1\u001b[39m)\u001b[39m.\u001b[39msum(axis\u001b[39m=\u001b[39m\u001b[39m0\u001b[39m))\n",
      "\u001b[0;31mValueError\u001b[0m: matmul: Input operand 1 has a mismatch in its core dimension 0, with gufunc signature (n?,k),(k,m?)->(n?,m?) (size 64 is different from 2)"
     ]
    }
   ],
   "source": [
    "lr = 1e-5\n",
    "\n",
    "num_of_input = 2\n",
    "size_layer_1 = 3\n",
    "size_layer_2 = 2\n",
    "\n",
    "W = np.random.randn(num_of_input, size_layer_1) \n",
    "b = np.zeros(size_layer_1)\n",
    "\n",
    "V = np.random.randn(size_layer_1, size_layer_2) \n",
    "c = np.zeros(size_layer_2)\n",
    "\n",
    "# t_train_one_hot = one_hot(t_train)\n",
    "# t_val_one_hot = one_hot(t_val)\n",
    "\n",
    "# ma = x_train.max()\n",
    "# mi = x_train.min()\n",
    "# x_train_normize = normalize(x_train, ma, mi)\n",
    "\n",
    "# r_t_val = t_val.reshape((t_val.shape[0], 1))\n",
    "# x_val_normize = normalize(x_val, ma, mi)\n",
    "\n",
    "len_train = len(norm_train_x)\n",
    "\n",
    "epoch = 1\n",
    "losses = []\n",
    "batch_size = 64\n",
    "\n",
    "logs = False\n",
    "\n",
    "# x_dumby = np.array([\n",
    "#     [1, -1],\n",
    "#     [1, -1],\n",
    "#     [1, -1],\n",
    "#     [1, -1],\n",
    "# ])\n",
    "\n",
    "# t_dumby = np.array([\n",
    "#     [1, 0],\n",
    "#     [1, 0],\n",
    "#     [1, 0],\n",
    "#     [1, 0],\n",
    "# ])\n",
    "# training loop\n",
    "batch_size = 64\n",
    "for e in range(epoch):\n",
    "    a_dW = np.zeros((num_of_input, size_layer_1))\n",
    "    a_dV = np.zeros((size_layer_1, size_layer_2))\n",
    "    a_db = np.zeros(size_layer_1)\n",
    "    a_dc = np.zeros(size_layer_2)\n",
    "    \n",
    "    loss = []\n",
    "    \n",
    "    for i in range(0, len_train, batch_size):\n",
    "        t_batch = t_train_one_hot[i:i+batch_size]\n",
    "        x_batch = x_train_normize[i:i+batch_size]\n",
    "        \n",
    "        if logs : print(f'X: {x_batch}')\n",
    "        if logs : print(f'T: {t_batch}')\n",
    "        \n",
    "        k = lin(x_batch, W, b)\n",
    "        if logs : print(f'K: {k}')\n",
    "        h = n_sigmoid(k)\n",
    "        if logs : print(f'H: {h}')\n",
    "        o = lin(h, V, c)\n",
    "        if logs : print(f'O: {o}')\n",
    "        \n",
    "        y = n_batch_softmax(o)\n",
    "        if logs : print(f'Y: {y}')\n",
    "        \n",
    "        l = n_batch_cross_entropy(y, t_batch)\n",
    "        if logs : print(f'L: {l}')\n",
    "        loss.append(l)\n",
    "        \n",
    "        do = y - t_batch\n",
    "        if logs : print(f'do: {do}')\n",
    "        \n",
    "        dV, dh, dc = batch_lin_grad(h, do, V)\n",
    "        if logs : print(f'dV: {dV}')\n",
    "        if logs : print(f'dh: {dh}')\n",
    "        if logs : print(f'dc: {dc}')\n",
    "        dk = dh * n_d_sigmoid(k)\n",
    "        if logs : print(f'dk: {dk}')\n",
    "        dW, dx, db = batch_lin_grad(x_batch, dk, W)\n",
    "        if logs : print(f'dW: {dW}')\n",
    "        if logs : print(f'dx: {dx}')\n",
    "        if logs : print(f'db: {db}')\n",
    "        \n",
    "        # accumulate gradients\n",
    "        a_dW += dW\n",
    "        a_dV += dV\n",
    "        a_db += db\n",
    "        a_dc += dc\n",
    "    \n",
    "    # sgd\n",
    "    W = W + -lr * a_dW\n",
    "    b = b + -lr * a_db\n",
    "    V = V + -lr * a_dV\n",
    "    c = c + -lr * a_dc\n",
    "    \n",
    "    losses.append(np.mean(loss))\n",
    "    \n",
    "    print(f'Done epoch : {e+1}')\n",
    "    \n",
    "    \n",
    "plot_losses(losses)"
   ]
  }
 ],
 "metadata": {
  "kernelspec": {
   "display_name": "deeplearning",
   "language": "python",
   "name": "python3"
  },
  "language_info": {
   "codemirror_mode": {
    "name": "ipython",
    "version": 3
   },
   "file_extension": ".py",
   "mimetype": "text/x-python",
   "name": "python",
   "nbconvert_exporter": "python",
   "pygments_lexer": "ipython3",
   "version": "3.12.0"
  }
 },
 "nbformat": 4,
 "nbformat_minor": 2
}
