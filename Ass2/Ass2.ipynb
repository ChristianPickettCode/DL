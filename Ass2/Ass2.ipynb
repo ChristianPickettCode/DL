{
 "cells": [
  {
   "cell_type": "markdown",
   "metadata": {},
   "source": [
    "# Assignment 2 - Deep Learning - Automatic Differentiation"
   ]
  },
  {
   "cell_type": "markdown",
   "metadata": {},
   "source": [
    "### Part 1 - Working out backward functions"
   ]
  },
  {
   "cell_type": "markdown",
   "metadata": {},
   "source": [
    "#### Question 1"
   ]
  },
  {
   "cell_type": "markdown",
   "metadata": {},
   "source": [
    "Let $f(x, y) = \\frac{x}{y} $. Then, $ f(x, y) $ can be rewritten as $ xy^{-1} $.\n",
    "The derivative with respect to x is:\n",
    "\n",
    "$$\n",
    "\\frac{df(x, y)}{dx} = y^{-1} = \\frac{1}{y}\n",
    "$$\n",
    "\n",
    "The derivative of a constant time a function is the constant times the derivative of the function. So applying the power rule, the derivative of x with respect to x is 1.\n",
    "Now, the derivative with respect to y is:\n",
    "\n",
    "$$\n",
    "\\frac{df(x, y)}{dy} = -xy^{-2} = -\\frac{x}{y^2}\n",
    "$$\n",
    "\n",
    "Again, by the power rule, the derivative of y with respect to y is -1 times $ y^{-2} $.\n"
   ]
  },
  {
   "cell_type": "markdown",
   "metadata": {},
   "source": [
    "#### Question 3 "
   ]
  },
  {
   "cell_type": "markdown",
   "metadata": {},
   "source": [
    "Define dimensions:\n",
    "- `f = 4` (features)\n",
    "- `m = 3` (output dimension)\n",
    "- `n = 2` (samples)\n",
    "\n",
    "**Forward pass:**\n",
    "- `X` is an `n x f` matrix with normally distributed random values. (`X.shape` is `(n, f)`)\n",
    "- `W` is an `m x f` matrix with normally distributed random values. (`W.shape` is `(m, f)`)\n",
    "- Compute `Y` as the dot product of `X` and the transpose of `W`, resulting in an `n x m` matrix. (`Y.shape` is `(n, m)`)\n",
    "\n",
    "**Copy of `Y` for gradient computation:**\n",
    "- `g` is a copy of `Y`.\n",
    "\n",
    "**Backward pass:**\n",
    "- Compute the gradient with respect to `W` as `dW = g.T @ X`, resulting in an `m x f` matrix. (`dW.shape` is `(m, f)`)\n",
    "- Compute the gradient with respect to `X` as `dx = g @ W`, resulting in an `n x f` matrix. (`dx.shape` is `(n, f)`)\n",
    "\n"
   ]
  },
  {
   "cell_type": "code",
   "execution_count": 16,
   "metadata": {},
   "outputs": [
    {
     "name": "stdout",
     "output_type": "stream",
     "text": [
      "(2, 4)\n",
      "(3, 4)\n",
      "(2, 3)\n",
      "(3, 4)\n",
      "(2, 4)\n"
     ]
    }
   ],
   "source": [
    "import numpy as np\n",
    "f = 4; m = 3; n = 2;\n",
    "\n",
    "# forward\n",
    "X = np.random.randn(n, f); print(X.shape)\n",
    "W = np.random.randn(m, f); print(W.shape)\n",
    "Y = np.dot(X, W.T); print(Y.shape)\n",
    "\n",
    "g = Y.copy()\n",
    "\n",
    "# backward\n",
    "dW = np.matmul(g.T, X); print(dW.shape)\n",
    "dx = np.matmul(g, W); print(dx.shape)"
   ]
  },
  {
   "cell_type": "markdown",
   "metadata": {},
   "source": [
    "#### Question 4"
   ]
  },
  {
   "cell_type": "code",
   "execution_count": 15,
   "metadata": {},
   "outputs": [
    {
     "name": "stdout",
     "output_type": "stream",
     "text": [
      "(1, 5)\n",
      "(16, 1)\n",
      "(16, 5)\n",
      "(5,)\n"
     ]
    }
   ],
   "source": [
    "import numpy as np\n",
    "x = np.random.randn(5)\n",
    "num_columns = 16\n",
    "\n",
    "# forward\n",
    "x = x[None, :]; print(x.shape)\n",
    "y = np.ones([num_columns, 1]); print(y.shape)\n",
    "o = x * y; print(o.shape)\n",
    "\n",
    "# backward\n",
    "g = np.ones(o.shape[1]).squeeze(); print(g.shape)\n"
   ]
  },
  {
   "cell_type": "markdown",
   "metadata": {},
   "source": [
    "### Part 2"
   ]
  },
  {
   "cell_type": "code",
   "execution_count": null,
   "metadata": {},
   "outputs": [],
   "source": [
    "# !python ./vugrad/experiments/train_mlp.py\n",
    "!python ./vugrad/experiments/train_mlp.py -D mnist -l 0.0001"
   ]
  },
  {
   "cell_type": "markdown",
   "metadata": {},
   "source": [
    "#### Question 5"
   ]
  },
  {
   "cell_type": "code",
   "execution_count": 2,
   "metadata": {},
   "outputs": [
    {
     "name": "stdout",
     "output_type": "stream",
     "text": [
      "[[3.  3.1]]\n",
      "<vugrad.vugrad.core.OpNode object at 0x110e91b80>\n",
      "TensorNode[size (1, 2), source None].\n",
      "[[0. 0.]]\n"
     ]
    }
   ],
   "source": [
    "import vugrad.vugrad as vg\n",
    "import numpy as np\n",
    "\n",
    "a = vg.TensorNode(np.array([[1.0, 1.1]]))\n",
    "b = vg.TensorNode(np.array([[2.0, 2.0]]))\n",
    "\n",
    "c = a + b;  print(c.value)\n",
    "\n",
    "# What does c.value contain?\n",
    "# In our newly created \"c\" TensorNode c.value contains the value of the operation add on the inputs a & b.\n",
    "# Resulting in a value of [3, 3.1] where a & b are [1.0, 1.1] & [2.0, 2.0] respectively\n",
    "\n",
    "# What does c.source refer to?\n",
    "# The source property refers to the operator node that created the output tensor node \"c\". \n",
    "# In our case the source refers to the Add operator node and is a reference to it.\n",
    "print(c.source)\n",
    "\n",
    "# What does c.source.inputs[0].value refer to?\n",
    "# The inputs of the source refers to the inputs of the operator node Add, which are our Tensor nodes a & b. \n",
    "# Thefore the 0th element of the sources input would be a since its the first input.\n",
    "print(c.source.inputs[0])\n",
    "\n",
    "# What does a.grad refer to? What is its current value?\n",
    "# It refers to the gradient of the tensor node \"a\" where the gradient will be stored when the loss is computed. \n",
    "# It is the deriviate of the loss with respect to param value\n",
    "print(a.grad)\n"
   ]
  },
  {
   "cell_type": "markdown",
   "metadata": {},
   "source": [
    "#### Question 6"
   ]
  },
  {
   "cell_type": "code",
   "execution_count": null,
   "metadata": {},
   "outputs": [],
   "source": [
    "# 1) The Object is the Op class is the abstract class that represent this operation\n",
    "# 2) It's done within class Add(Op) on line 324, where \"return a + b\" occurs.\n",
    "# 3) The outputs are set to None because they have not been computed yet. ** \n",
    "# In do_forward in the Op class on line 249: opnode.outputs = outputs"
   ]
  },
  {
   "cell_type": "markdown",
   "metadata": {},
   "source": [
    "#### Question 7"
   ]
  },
  {
   "cell_type": "code",
   "execution_count": null,
   "metadata": {},
   "outputs": [],
   "source": [
    "# Backwards is called in the Tensor Node which calls the source backwards : line 97 : self.source.backward()\n",
    "# Which calls the OpNode backward function that walks backwards down the graph to compute the gradients. \n",
    "# In tbe OpNode backward is called for the specific op : ginputs_raw = self.op.backward(self.context, *goutputs_raw)"
   ]
  },
  {
   "cell_type": "markdown",
   "metadata": {},
   "source": [
    "#### Question 8"
   ]
  },
  {
   "cell_type": "markdown",
   "metadata": {},
   "source": [
    "#### Question 9"
   ]
  },
  {
   "cell_type": "code",
   "execution_count": null,
   "metadata": {},
   "outputs": [],
   "source": [
    "class Relu(Op):\n",
    "    \"\"\"\n",
    "    Op for element-wise application of relu function\n",
    "    \"\"\"\n",
    "    @staticmethod\n",
    "    def forward(context, input):\n",
    "        relux = np.maximum(0, input)\n",
    "        context['relux'] = input\n",
    "        return relux\n",
    "\n",
    "    @staticmethod\n",
    "    def backward(context, goutput):\n",
    "        relux = context['relux'] \n",
    "        return goutput * np.where(relux < 0, 0, 1)"
   ]
  },
  {
   "cell_type": "code",
   "execution_count": 3,
   "metadata": {},
   "outputs": [
    {
     "name": "stdout",
     "output_type": "stream",
     "text": [
      "## loaded data:\n",
      "         number of instances: 60000 in training, 10000 in validation\n",
      " training class distribution: [32614 27386]\n",
      "     val. class distribution: [5513 4487]\n",
      "\n",
      "## Starting training\n",
      "epoch 000\n",
      "       accuracy: 0.4487\n",
      "   running loss: 0.2965\n",
      "epoch 001\n",
      "       accuracy: 0.9433\n",
      "   running loss: 0.1053\n",
      "epoch 002\n",
      "       accuracy: 0.9768\n",
      "   running loss: 0.06692\n",
      "epoch 003\n",
      "       accuracy: 0.9872\n",
      "   running loss: 0.05377\n",
      "epoch 004\n",
      "       accuracy: 0.9892\n",
      "   running loss: 0.04733\n",
      "epoch 005\n",
      "       accuracy: 0.9896\n",
      "   running loss: 0.04318\n",
      "epoch 006\n",
      "       accuracy: 0.9901\n",
      "   running loss: 0.04017\n",
      "epoch 007\n",
      "       accuracy: 0.991\n",
      "   running loss: 0.03785\n",
      "epoch 008\n",
      "       accuracy: 0.9921\n",
      "   running loss: 0.03597\n",
      "epoch 009\n",
      "       accuracy: 0.9924\n",
      "   running loss: 0.0344\n",
      "epoch 010\n",
      "       accuracy: 0.9931\n",
      "   running loss: 0.03305\n",
      "epoch 011\n",
      "       accuracy: 0.9934\n",
      "   running loss: 0.03188\n",
      "epoch 012\n",
      "       accuracy: 0.9934\n",
      "   running loss: 0.03084\n",
      "epoch 013\n",
      "       accuracy: 0.994\n",
      "   running loss: 0.02991\n",
      "epoch 014\n",
      "       accuracy: 0.9939\n",
      "   running loss: 0.02907\n",
      "epoch 015\n",
      "       accuracy: 0.9943\n",
      "   running loss: 0.0283\n",
      "epoch 016\n",
      "       accuracy: 0.9945\n",
      "   running loss: 0.02758\n",
      "epoch 017\n",
      "       accuracy: 0.9948\n",
      "   running loss: 0.02691\n",
      "epoch 018\n",
      "       accuracy: 0.995\n",
      "   running loss: 0.02623\n",
      "epoch 019\n",
      "       accuracy: 0.9953\n",
      "   running loss: 0.02552\n",
      "Figure(640x480)\n"
     ]
    }
   ],
   "source": [
    "!python ./vugrad/experiments/train_mlp.py"
   ]
  },
  {
   "cell_type": "code",
   "execution_count": 15,
   "metadata": {},
   "outputs": [
    {
     "name": "stdout",
     "output_type": "stream",
     "text": [
      "## loaded data:\n",
      "         number of instances: 60000 in training, 10000 in validation\n",
      " training class distribution: [32511 27489]\n",
      "     val. class distribution: [5453 4547]\n",
      "\n",
      "## Starting training\n",
      "epoch 000\n",
      "       accuracy: 0.4491\n",
      "   running loss: 0.08491\n",
      "epoch 001\n",
      "       accuracy: 0.9789\n",
      "   running loss: 0.04412\n",
      "epoch 002\n",
      "       accuracy: 0.9803\n",
      "   running loss: 0.03986\n",
      "epoch 003\n",
      "       accuracy: 0.9822\n",
      "   running loss: 0.03802\n",
      "epoch 004\n",
      "       accuracy: 0.984\n",
      "   running loss: 0.03724\n",
      "epoch 005\n",
      "       accuracy: 0.9847\n",
      "   running loss: 0.0368\n",
      "epoch 006\n",
      "       accuracy: 0.9858\n",
      "   running loss: 0.03638\n",
      "epoch 007\n",
      "       accuracy: 0.9862\n",
      "   running loss: 0.03602\n",
      "epoch 008\n",
      "       accuracy: 0.987\n",
      "   running loss: 0.03583\n",
      "epoch 009\n",
      "       accuracy: 0.9877\n",
      "   running loss: 0.03563\n",
      "epoch 010\n",
      "       accuracy: 0.9888\n",
      "   running loss: 0.03525\n",
      "epoch 011\n",
      "       accuracy: 0.989\n",
      "   running loss: 0.03503\n",
      "epoch 012\n",
      "       accuracy: 0.9894\n",
      "   running loss: 0.03463\n",
      "epoch 013\n",
      "       accuracy: 0.9897\n",
      "   running loss: 0.03434\n",
      "epoch 014\n",
      "       accuracy: 0.9908\n",
      "   running loss: 0.03415\n",
      "epoch 015\n",
      "       accuracy: 0.9912\n",
      "   running loss: 0.03415\n",
      "epoch 016\n",
      "       accuracy: 0.9922\n",
      "   running loss: 0.03346\n",
      "epoch 017\n",
      "       accuracy: 0.992\n",
      "   running loss: 0.03332\n",
      "epoch 018\n",
      "       accuracy: 0.9926\n",
      "   running loss: 0.03369\n",
      "epoch 019\n",
      "       accuracy: 0.9927\n",
      "   running loss: 0.034\n"
     ]
    }
   ],
   "source": [
    "!python ./vugrad/experiments/train_mlp_relu.py\n",
    "# !python ./vugrad/experiments/train_mlp_relu.py -D mnist -l 0.0001"
   ]
  },
  {
   "cell_type": "code",
   "execution_count": 55,
   "metadata": {},
   "outputs": [
    {
     "name": "stdout",
     "output_type": "stream",
     "text": [
      "\n",
      "## Starting training\n",
      "epoch 000\n",
      "       accuracy: 0.0\n",
      "   running loss: 4.937e+18\n",
      "0.0\n"
     ]
    },
    {
     "data": {
      "image/png": "[encoded data removed]",
      "text/plain": [
       "<Figure size 640x480 with 1 Axes>"
      ]
     },
     "metadata": {},
     "output_type": "display_data"
    }
   ],
   "source": [
    "# from _context import vugrad\n",
    "\n",
    "import numpy as np\n",
    "\n",
    "# for running from the command line\n",
    "from argparse import ArgumentParser\n",
    "\n",
    "import vugrad.vugrad as vg\n",
    "\n",
    "import matplotlib.pyplot as plt\n",
    "\n",
    "\n",
    "# (xtrain, ytrain), (xval, yval), num_classes = vg.load_synth()\n",
    "(xtrain, ytrain), (xval, yval), num_classes = vg.load_mnist(final=False, flatten=True)\n",
    "\n",
    "num_instances, num_features = xtrain.shape\n",
    "\n",
    "# Create a simple neural network.\n",
    "# This is a `Module` consisting of other modules representing linear layers, provided by the vugrad library.\n",
    "class MLP(vg.Module):\n",
    "    \"\"\"\n",
    "    A simple MLP with one hidden layer, and a sigmoid non-linearity on the hidden layer and a softmax on the\n",
    "    output.\n",
    "    \"\"\"\n",
    "\n",
    "    def __init__(self, input_size, output_size, hidden_mult=4):\n",
    "        \"\"\"\n",
    "        :param input_size:\n",
    "        :param output_size:\n",
    "        :param hidden_mult: Multiplier that indicates how many times bigger the hidden layer is than the input layer.\n",
    "        \"\"\"\n",
    "        super().__init__()\n",
    "\n",
    "        hidden_size = hidden_mult * input_size\n",
    "        # -- There is no common wisdom on how big the hidden size should be, apart from the idea\n",
    "        #    that it should be strictly _bigger_ than the input if at all possible.\n",
    "\n",
    "        self.layer1 = vg.Linear(input_size, hidden_size)\n",
    "        self.layer2 = vg.Linear(hidden_size, hidden_size)\n",
    "        self.layer3 = vg.Linear(hidden_size, hidden_size)\n",
    "        self.layer4 = vg.Linear(hidden_size, output_size)\n",
    "        # -- The linear layer (without activation) is implemented in vugrad. We simply instantiate these modules, and\n",
    "        #    add them to our network.\n",
    "\n",
    "    def forward(self, input):\n",
    "\n",
    "        assert len(input.size()) == 2\n",
    "\n",
    "        # first layer\n",
    "        l1 = self.layer1(input)\n",
    "        h1 = vg.relu(l1)\n",
    "        \n",
    "        l2 = self.layer2(h1)\n",
    "        # h2 = vg.sigmoid(l2)\n",
    "        \n",
    "        # l3 = self.layer3(h2)\n",
    "        # h3 = vg.sigmoid(l3)\n",
    "\n",
    "        # l4 = self.layer4(h2)\n",
    "        \n",
    "        # softmax activation\n",
    "        output = vg.logsoftmax(l2)\n",
    "        # -- the logsoftmax computes the _logarithm_ of the probabilities produced by softmax. This makes the computation\n",
    "        #    of the CE loss more stable when the probabilities get close to 0 (remember that the CE loss is the logarithm\n",
    "        #    of these probabilities). It needs to be implemented in a specific way. See the source for details.\n",
    "\n",
    "        return output\n",
    "\n",
    "    def parameters(self):\n",
    "\n",
    "        return self.layer1.parameters() + self.layer2.parameters() #+ self.layer3.parameters() + self.layer4.parameters()\n",
    "\n",
    "\n",
    "epochs = 1\n",
    "\n",
    "def learn():\n",
    "    ## Instantiate the model\n",
    "    mlp = MLP(input_size=num_features, output_size=num_classes)\n",
    "\n",
    "    n, m = xtrain.shape\n",
    "    b = 128\n",
    "    lr = 0.01\n",
    "    accurs = []\n",
    "\n",
    "    print('\\n## Starting training')\n",
    "    for epoch in range(epochs):\n",
    "\n",
    "        print(f'epoch {epoch:03}')\n",
    "\n",
    "        ## Compute validation accuracy\n",
    "        o = mlp(vg.TensorNode(xval))\n",
    "        oval = o.value\n",
    "\n",
    "        predictions = np.argmax(oval, axis=1)\n",
    "        num_correct = (predictions == yval).sum()\n",
    "        acc = num_correct / yval.shape[0]\n",
    "\n",
    "        o.clear() # gc the computation graph\n",
    "        print(f'       accuracy: {acc:.4}')\n",
    "\n",
    "        cl = 0.0 # running sum of the training loss\n",
    "\n",
    "        # We loop over the data in batches of size `b`\n",
    "        for fr in range(0, n, b):\n",
    "\n",
    "            # The end index of the batch\n",
    "            to = min(fr + b, n)\n",
    "\n",
    "            # Slice out the batch and its corresponding target values\n",
    "            batch, targets = xtrain[fr:to, :], ytrain[fr:to]\n",
    "\n",
    "            # Wrap the inputs in a Node\n",
    "            batch = vg.TensorNode(value=batch)\n",
    "\n",
    "            outputs = mlp(batch)\n",
    "            loss = vg.logceloss(outputs, targets)\n",
    "            # -- The computation graph is now complete. It consists of the MLP, together with the computation of\n",
    "            #    the scalar loss.\n",
    "            # -- The variable `loss` is the TensorNode at the very top of our computation graph. This means we can call\n",
    "            #    it to perform operations on the computation graph, like clearing the gradients, starting the backpropgation\n",
    "            #    and clearing the graph.\n",
    "            # -- Note that we set the MLP up to produce log probabilties, so we should compute the CE loss for these.\n",
    "\n",
    "            cl += loss.value\n",
    "            # -- We must be careful here to extract the _raw_ value for the running loss. What would happen if we kept\n",
    "            #    a running sum using the TensorNode?\n",
    "\n",
    "            # Start the backpropagation\n",
    "            loss.backward()\n",
    "\n",
    "            # pply gradient descent\n",
    "            for parm in mlp.parameters():\n",
    "                parm.value -= lr * parm.grad\n",
    "                # -- Note that we are directly manipulating the members of the parm TensorNode. This means that for this\n",
    "                #    part, we are not building up a computation graph.\n",
    "\n",
    "            # -- In Pytorch, the gradient descent is abstracted away into an Optimizer. This allows us to build slightly more\n",
    "            #    complexoptimizers than plain graident descent.\n",
    "\n",
    "            # Finally, we need to reset the gradients to zero ...\n",
    "            loss.zero_grad()\n",
    "            # ... and delete the parts of the computation graph we don't need to remember.\n",
    "            loss.clear()\n",
    "\n",
    "        print(f'   running loss: {cl/n:.4}')\n",
    "        accurs.append(acc)\n",
    "    return accurs\n",
    "        \n",
    "    \n",
    "\n",
    "    \n",
    "xax = np.arange(epochs)\n",
    "y1 = learn()\n",
    "# y2 = learn()\n",
    "# y3 = learn()\n",
    "# y4 = learn()\n",
    "# y5 = learn()\n",
    "\n",
    "# mean = np.array([y1, y2, y3, y4, y5]).mean()\n",
    "mean = np.array([y1]).mean()\n",
    "print(mean)\n",
    "\n",
    "plt.plot(xax, y1, label='Line 1')\n",
    "# plt.plot(xax, y2, label='Line 2')\n",
    "# plt.plot(xax, y3, label='Line 3')\n",
    "# plt.plot(xax, y4, label='Line 4')\n",
    "# plt.plot(xax, y5, label='Line 5')\n",
    "\n",
    "# plt.plot(accurs)\n",
    "plt.ylabel('Accuracy')\n",
    "plt.xlabel('Number of Epochs')\n",
    "plt.title('Test' )\n",
    "\n",
    "plt.show()\n"
   ]
  },
  {
   "cell_type": "code",
   "execution_count": null,
   "metadata": {},
   "outputs": [],
   "source": [
    "# Similar results but not as good. \n",
    "# Plot 10 trials each"
   ]
  },
  {
   "cell_type": "markdown",
   "metadata": {},
   "source": [
    "#### Question 10"
   ]
  },
  {
   "cell_type": "code",
   "execution_count": null,
   "metadata": {},
   "outputs": [],
   "source": [
    "import numpy as np\n",
    "X = np.array([[1,2,3], [2, 2, 1]])\n",
    "Y = np.array([[2,2,2], [3, 3, 3]])\n",
    "d_x = 1 / Y\n",
    "d_y = -X / (Y ** 2)"
   ]
  },
  {
   "cell_type": "markdown",
   "metadata": {},
   "source": [
    "### Part 3"
   ]
  },
  {
   "cell_type": "markdown",
   "metadata": {},
   "source": [
    "#### Question 10"
   ]
  },
  {
   "cell_type": "code",
   "execution_count": 5,
   "metadata": {},
   "outputs": [
    {
     "name": "stdout",
     "output_type": "stream",
     "text": [
      "## loaded data:\n",
      "         number of instances: 55000 in training, 5000 in validation\n",
      " training class distribution: [5434 6212 5465 5622 5343 4963 5436 5702 5357 5466]\n",
      "     val. class distribution: [489 530 493 509 499 458 482 563 494 483]\n",
      "\n",
      "## Starting training\n",
      "epoch 000\n",
      "       accuracy: 0.095\n",
      "   running loss: 7.764\n",
      "epoch 001\n",
      "       accuracy: 0.0978\n",
      "   running loss: 7.747\n",
      "epoch 002\n",
      "       accuracy: 0.0978\n",
      "   running loss: 7.747\n",
      "epoch 003\n",
      "       accuracy: 0.0978\n",
      "   running loss: 7.747\n",
      "epoch 004\n",
      "       accuracy: 0.0978\n",
      "   running loss: 7.747\n",
      "Figure(640x480)\n"
     ]
    }
   ],
   "source": [
    "!python ./vugrad/experiments/train_mlp.py -D mnist -b 128 -e 5 -l 0.01"
   ]
  },
  {
   "cell_type": "code",
   "execution_count": 1,
   "metadata": {},
   "outputs": [
    {
     "name": "stdout",
     "output_type": "stream",
     "text": [
      "## loaded data:\n",
      "         number of instances: 55000 in training, 5000 in validation\n",
      " training class distribution: [5434 6212 5465 5622 5343 4963 5436 5702 5357 5466]\n",
      "     val. class distribution: [489 530 493 509 499 458 482 563 494 483]\n",
      "\n",
      "## Starting training\n",
      "epoch 000\n",
      "/Users/chrispickett/Desktop/DL/vugrad/vugrad/ops.py:181: RuntimeWarning: overflow encountered in exp\n",
      "  sigx =  1 / (1 + np.exp(-input))\n",
      "       accuracy: 0.0694\n",
      "   running loss: 8.521\n",
      "epoch 001\n",
      "       accuracy: 0.0964\n",
      "   running loss: 8.458\n",
      "epoch 002\n",
      "       accuracy: 0.0964\n",
      "   running loss: 8.451\n",
      "epoch 003\n",
      "       accuracy: 0.0964\n",
      "   running loss: 8.445\n",
      "epoch 004\n",
      "       accuracy: 0.0964\n",
      "   running loss: 8.439\n",
      "Figure(640x480)\n"
     ]
    }
   ],
   "source": [
    "!python ./vugrad/experiments/train_mlp.py -D mnist -b 128 -e 5 -l 0.01"
   ]
  },
  {
   "cell_type": "code",
   "execution_count": null,
   "metadata": {},
   "outputs": [],
   "source": []
  }
 ],
 "metadata": {
  "kernelspec": {
   "display_name": "deeplearning",
   "language": "python",
   "name": "python3"
  },
  "language_info": {
   "codemirror_mode": {
    "name": "ipython",
    "version": 3
   },
   "file_extension": ".py",
   "mimetype": "text/x-python",
   "name": "python",
   "nbconvert_exporter": "python",
   "pygments_lexer": "ipython3",
   "version": "3.12.0"
  }
 },
 "nbformat": 4,
 "nbformat_minor": 2
}
